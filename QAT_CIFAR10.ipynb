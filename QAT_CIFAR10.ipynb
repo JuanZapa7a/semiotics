{
  "nbformat": 4,
  "nbformat_minor": 0,
  "metadata": {
    "colab": {
      "provenance": [],
      "authorship_tag": "ABX9TyNmauhee3+CFi+hSJsXrrj7",
      "include_colab_link": true
    },
    "kernelspec": {
      "name": "python3",
      "display_name": "Python 3"
    },
    "language_info": {
      "name": "python"
    }
  },
  "cells": [
    {
      "cell_type": "markdown",
      "metadata": {
        "id": "view-in-github",
        "colab_type": "text"
      },
      "source": [
        "<a href=\"https://colab.research.google.com/github/JuanZapa7a/semiotics/blob/main/QAT_CIFAR10.ipynb\" target=\"_parent\"><img src=\"https://colab.research.google.com/assets/colab-badge.svg\" alt=\"Open In Colab\"/></a>"
      ]
    },
    {
      "cell_type": "markdown",
      "metadata": {
        "id": "SsenkQwcgV6H"
      },
      "source": [
        "# Quantization Aware Training (QAT) using Larq for binarized quantization with the CIFAR10 dataset\n",
        "\n",
        "\n",
        "\n"
      ]
    },
    {
      "cell_type": "markdown",
      "source": [
        "## 1. Installation of Larq and necessary dependencies"
      ],
      "metadata": {
        "id": "op030X-yW5Pv"
      }
    },
    {
      "cell_type": "code",
      "execution_count": 1,
      "metadata": {
        "id": "iAve6DCL4JH4",
        "colab": {
          "base_uri": "https://localhost:8080/"
        },
        "outputId": "0946b92a-bb8c-4772-e421-68457f0bc9e8"
      },
      "outputs": [
        {
          "output_type": "stream",
          "name": "stdout",
          "text": [
            "\u001b[2K   \u001b[90m━━━━━━━━━━━━━━━━━━━━━━━━━━━━━━━━━━━━━━━━\u001b[0m \u001b[32m578.0/578.0 MB\u001b[0m \u001b[31m2.8 MB/s\u001b[0m eta \u001b[36m0:00:00\u001b[0m\n",
            "\u001b[2K   \u001b[90m━━━━━━━━━━━━━━━━━━━━━━━━━━━━━━━━━━━━━━━━\u001b[0m \u001b[32m1.7/1.7 MB\u001b[0m \u001b[31m24.0 MB/s\u001b[0m eta \u001b[36m0:00:00\u001b[0m\n",
            "\u001b[2K   \u001b[90m━━━━━━━━━━━━━━━━━━━━━━━━━━━━━━━━━━━━━━━━\u001b[0m \u001b[32m42.6/42.6 kB\u001b[0m \u001b[31m1.7 MB/s\u001b[0m eta \u001b[36m0:00:00\u001b[0m\n",
            "\u001b[2K   \u001b[90m━━━━━━━━━━━━━━━━━━━━━━━━━━━━━━━━━━━━━━━━\u001b[0m \u001b[32m1.1/1.1 MB\u001b[0m \u001b[31m20.0 MB/s\u001b[0m eta \u001b[36m0:00:00\u001b[0m\n",
            "\u001b[2K   \u001b[90m━━━━━━━━━━━━━━━━━━━━━━━━━━━━━━━━━━━━━━━━\u001b[0m \u001b[32m5.9/5.9 MB\u001b[0m \u001b[31m33.4 MB/s\u001b[0m eta \u001b[36m0:00:00\u001b[0m\n",
            "\u001b[2K   \u001b[90m━━━━━━━━━━━━━━━━━━━━━━━━━━━━━━━━━━━━━━━━\u001b[0m \u001b[32m438.7/438.7 kB\u001b[0m \u001b[31m11.2 MB/s\u001b[0m eta \u001b[36m0:00:00\u001b[0m\n",
            "\u001b[2K   \u001b[90m━━━━━━━━━━━━━━━━━━━━━━━━━━━━━━━━━━━━━━━━\u001b[0m \u001b[32m4.9/4.9 MB\u001b[0m \u001b[31m42.2 MB/s\u001b[0m eta \u001b[36m0:00:00\u001b[0m\n",
            "\u001b[2K   \u001b[90m━━━━━━━━━━━━━━━━━━━━━━━━━━━━━━━━━━━━━━━━\u001b[0m \u001b[32m781.3/781.3 kB\u001b[0m \u001b[31m22.7 MB/s\u001b[0m eta \u001b[36m0:00:00\u001b[0m\n",
            "\u001b[?25h\u001b[31mERROR: pip's dependency resolver does not currently take into account all the packages that are installed. This behaviour is the source of the following dependency conflicts.\n",
            "google-ai-generativelanguage 0.6.10 requires protobuf!=4.21.0,!=4.21.1,!=4.21.2,!=4.21.3,!=4.21.4,!=4.21.5,<6.0.0dev,>=3.20.2, but you have protobuf 3.19.6 which is incompatible.\n",
            "google-cloud-aiplatform 1.71.1 requires protobuf!=4.21.0,!=4.21.1,!=4.21.2,!=4.21.3,!=4.21.4,!=4.21.5,<6.0.0dev,>=3.20.2, but you have protobuf 3.19.6 which is incompatible.\n",
            "google-cloud-bigquery-connection 1.16.1 requires protobuf!=4.21.0,!=4.21.1,!=4.21.2,!=4.21.3,!=4.21.4,!=4.21.5,<6.0.0dev,>=3.20.2, but you have protobuf 3.19.6 which is incompatible.\n",
            "google-cloud-bigquery-storage 2.27.0 requires protobuf!=3.20.0,!=3.20.1,!=4.21.0,!=4.21.1,!=4.21.2,!=4.21.3,!=4.21.4,!=4.21.5,<6.0.0dev,>=3.20.2, but you have protobuf 3.19.6 which is incompatible.\n",
            "google-cloud-bigtable 2.27.0 requires protobuf!=4.21.0,!=4.21.1,!=4.21.2,!=4.21.3,!=4.21.4,!=4.21.5,<6.0.0dev,>=3.20.2, but you have protobuf 3.19.6 which is incompatible.\n",
            "google-cloud-datastore 2.20.1 requires protobuf!=3.20.0,!=3.20.1,!=4.21.0,!=4.21.1,!=4.21.2,!=4.21.3,!=4.21.4,!=4.21.5,<6.0.0dev,>=3.20.2, but you have protobuf 3.19.6 which is incompatible.\n",
            "google-cloud-firestore 2.19.0 requires protobuf!=3.20.0,!=3.20.1,!=4.21.0,!=4.21.1,!=4.21.2,!=4.21.3,!=4.21.4,!=4.21.5,<6.0.0dev,>=3.20.2, but you have protobuf 3.19.6 which is incompatible.\n",
            "google-cloud-functions 1.18.0 requires protobuf!=4.21.0,!=4.21.1,!=4.21.2,!=4.21.3,!=4.21.4,!=4.21.5,<6.0.0dev,>=3.20.2, but you have protobuf 3.19.6 which is incompatible.\n",
            "google-cloud-iam 2.16.0 requires protobuf!=4.21.0,!=4.21.1,!=4.21.2,!=4.21.3,!=4.21.4,!=4.21.5,<6.0.0dev,>=3.20.2, but you have protobuf 3.19.6 which is incompatible.\n",
            "google-cloud-language 2.15.0 requires protobuf!=4.21.0,!=4.21.1,!=4.21.2,!=4.21.3,!=4.21.4,!=4.21.5,<6.0.0dev,>=3.20.2, but you have protobuf 3.19.6 which is incompatible.\n",
            "google-cloud-pubsub 2.27.1 requires protobuf!=4.21.0,!=4.21.1,!=4.21.2,!=4.21.3,!=4.21.4,!=4.21.5,<6.0.0dev,>=3.20.2, but you have protobuf 3.19.6 which is incompatible.\n",
            "google-cloud-resource-manager 1.13.0 requires protobuf!=4.21.0,!=4.21.1,!=4.21.2,!=4.21.3,!=4.21.4,!=4.21.5,<6.0.0dev,>=3.20.2, but you have protobuf 3.19.6 which is incompatible.\n",
            "google-cloud-translate 3.17.0 requires protobuf!=4.21.0,!=4.21.1,!=4.21.2,!=4.21.3,!=4.21.4,!=4.21.5,<6.0.0dev,>=3.20.2, but you have protobuf 3.19.6 which is incompatible.\n",
            "googleapis-common-protos 1.66.0 requires protobuf!=3.20.0,!=3.20.1,!=4.21.1,!=4.21.2,!=4.21.3,!=4.21.4,!=4.21.5,<6.0.0.dev0,>=3.20.2, but you have protobuf 3.19.6 which is incompatible.\n",
            "grpc-google-iam-v1 0.13.1 requires protobuf!=4.21.1,!=4.21.2,!=4.21.3,!=4.21.4,!=4.21.5,<6.0.0dev,>=3.20.2, but you have protobuf 3.19.6 which is incompatible.\n",
            "grpcio-status 1.62.3 requires protobuf>=4.21.6, but you have protobuf 3.19.6 which is incompatible.\n",
            "pandas-gbq 0.24.0 requires google-auth-oauthlib>=0.7.0, but you have google-auth-oauthlib 0.4.6 which is incompatible.\n",
            "tensorflow-datasets 4.9.7 requires protobuf>=3.20, but you have protobuf 3.19.6 which is incompatible.\n",
            "tensorflow-metadata 1.13.1 requires protobuf<5,>=3.20.3, but you have protobuf 3.19.6 which is incompatible.\n",
            "tf-keras 2.17.0 requires tensorflow<2.18,>=2.17, but you have tensorflow 2.10.0 which is incompatible.\u001b[0m\u001b[31m\n",
            "\u001b[2K   \u001b[90m━━━━━━━━━━━━━━━━━━━━━━━━━━━━━━━━━━━━━━━━\u001b[0m \u001b[32m65.5/65.5 kB\u001b[0m \u001b[31m1.5 MB/s\u001b[0m eta \u001b[36m0:00:00\u001b[0m\n",
            "\u001b[?25h"
          ]
        }
      ],
      "source": [
        "!pip -q install tensorflow==2.10.0\n",
        "!pip -q install larq==0.13.1\n",
        "\n",
        "import tensorflow as tf\n",
        "import larq as lq"
      ]
    },
    {
      "cell_type": "markdown",
      "metadata": {
        "id": "jRFxccghyMVo"
      },
      "source": [
        "## 2. Data preparation (CIFAR10)\n",
        "\n",
        "Download and prepare the CIFAR10 dataset.\n",
        "CIFAR-10 contains images of size $32 \\times 32 \\times 3$, includes 10 classes and already comes with 3 colour channels (RGB).\n",
        "\n",
        "The code will display the dimensions of the images and labels:\n",
        "- **Training images:** `(50000, 32, 32, 3)`\n",
        "- **Training labels:** `(50000, 1)`\n",
        "- **Test images:** `(10000, 32, 32, 3)`\n",
        "- **Test labels:** `(10000, 1)`\n"
      ]
    },
    {
      "cell_type": "code",
      "source": [
        "import tensorflow as tf\n",
        "\n",
        "# Load the CIFAR-10 dataset\n",
        "(train_images, train_labels), (test_images, test_labels) = tf.keras.datasets.cifar10.load_data()\n",
        "\n",
        "# Check the original dimensions of CIFAR-10\n",
        "# Should be (50000, 32, 32, 3) for train_images and (10000, 32, 32, 3) for test_images\n",
        "print(\"Original dimensions:\")\n",
        "print(\"Train images:\", train_images.shape)\n",
        "print(\"Test images:\", test_images.shape)\n",
        "\n",
        "# Normalize the images to the range [-1, 1]\n",
        "train_images, test_images = train_images / 127.5 - 1, test_images / 127.5 - 1\n",
        "\n",
        "# Check dimensions after normalization\n",
        "print(\"Dimensions after normalization:\")\n",
        "print(\"Train images:\", train_images.shape, \"Train labels:\", train_labels.shape)\n",
        "print(\"Test images:\", test_images.shape, \"Test labels:\", test_labels.shape)\n",
        "\n"
      ],
      "metadata": {
        "id": "cwd9EyaW279M",
        "outputId": "fd824dec-e6b0-4ec4-f918-8e84cffc3f25",
        "colab": {
          "base_uri": "https://localhost:8080/"
        }
      },
      "execution_count": 2,
      "outputs": [
        {
          "output_type": "stream",
          "name": "stdout",
          "text": [
            "Downloading data from https://www.cs.toronto.edu/~kriz/cifar-10-python.tar.gz\n",
            "170498071/170498071 [==============================] - 3s 0us/step\n",
            "Original dimensions:\n",
            "Train images: (50000, 32, 32, 3)\n",
            "Test images: (10000, 32, 32, 3)\n",
            "Dimensions after normalization:\n",
            "Train images: (50000, 32, 32, 3) Train labels: (50000, 1)\n",
            "Test images: (10000, 32, 32, 3) Test labels: (10000, 1)\n"
          ]
        }
      ]
    },
    {
      "cell_type": "markdown",
      "source": [
        "## 3. Creation of a base model.\n",
        "\n",
        "To train the same model without binarization and quantization (i.e., using full precision for both weights and activations), we simply need to remove the QuantConv2D and QuantDense layers, replacing them with standard convolutional (Conv2D) and dense (Dense) layers from TensorFlow's Keras API."
      ],
      "metadata": {
        "id": "HL1KjCFYm1vv"
      }
    },
    {
      "cell_type": "code",
      "source": [
        "import tensorflow as tf\n",
        "\n",
        "# Define the standard (non-binarized) model architecture\n",
        "model_normal = tf.keras.models.Sequential()\n",
        "\n",
        "# First layer: Standard convolutional layer (no quantization)\n",
        "model_normal.add(tf.keras.layers.Conv2D(\n",
        "    32, (3, 3),                        # 32 filters of size 3x3\n",
        "    activation=\"relu\",                 # Use ReLU activation instead of binary\n",
        "    use_bias=False,                    # No bias for simplicity\n",
        "    input_shape=(32, 32, 3)            # Input shape for CIFAR-10\n",
        "))\n",
        "model_normal.add(tf.keras.layers.MaxPooling2D((2, 2)))    # Max pooling for downsampling\n",
        "model_normal.add(tf.keras.layers.BatchNormalization(scale=False)) # Batch normalization\n",
        "\n",
        "# Second standard convolutional layer\n",
        "model_normal.add(tf.keras.layers.Conv2D(\n",
        "    64, (3, 3),\n",
        "    activation=\"relu\",\n",
        "    use_bias=False,\n",
        "))\n",
        "model_normal.add(tf.keras.layers.MaxPooling2D((2, 2)))     # Max pooling\n",
        "model_normal.add(tf.keras.layers.BatchNormalization(scale=False))\n",
        "\n",
        "# Third standard convolutional layer\n",
        "model_normal.add(tf.keras.layers.Conv2D(\n",
        "    64, (3, 3),\n",
        "    activation=\"relu\",\n",
        "    use_bias=False,\n",
        "))\n",
        "model_normal.add(tf.keras.layers.BatchNormalization(scale=False))\n",
        "model_normal.add(tf.keras.layers.Flatten())                # Flatten the output for the dense layers\n",
        "\n",
        "# Fully connected (dense) layer with 64 units\n",
        "model_normal.add(tf.keras.layers.Dense(64, activation=\"relu\", use_bias=False))\n",
        "model_normal.add(tf.keras.layers.BatchNormalization(scale=False))\n",
        "\n",
        "# Output layer for classification (10 classes for CIFAR-10)\n",
        "model_normal.add(tf.keras.layers.Dense(10, activation=\"softmax\", use_bias=False))\n",
        "model_normal.add(tf.keras.layers.BatchNormalization(scale=False))\n"
      ],
      "metadata": {
        "id": "bx7GOuZ14mzH"
      },
      "execution_count": 3,
      "outputs": []
    },
    {
      "cell_type": "code",
      "source": [
        "model_normal.summary()"
      ],
      "metadata": {
        "id": "3qsl5mxp4snK",
        "outputId": "4171bd1c-8d4b-4fea-d360-98a9bde43171",
        "colab": {
          "base_uri": "https://localhost:8080/"
        }
      },
      "execution_count": 4,
      "outputs": [
        {
          "output_type": "stream",
          "name": "stdout",
          "text": [
            "Model: \"sequential\"\n",
            "_________________________________________________________________\n",
            " Layer (type)                Output Shape              Param #   \n",
            "=================================================================\n",
            " conv2d (Conv2D)             (None, 30, 30, 32)        864       \n",
            "                                                                 \n",
            " max_pooling2d (MaxPooling2D  (None, 15, 15, 32)       0         \n",
            " )                                                               \n",
            "                                                                 \n",
            " batch_normalization (BatchN  (None, 15, 15, 32)       96        \n",
            " ormalization)                                                   \n",
            "                                                                 \n",
            " conv2d_1 (Conv2D)           (None, 13, 13, 64)        18432     \n",
            "                                                                 \n",
            " max_pooling2d_1 (MaxPooling  (None, 6, 6, 64)         0         \n",
            " 2D)                                                             \n",
            "                                                                 \n",
            " batch_normalization_1 (Batc  (None, 6, 6, 64)         192       \n",
            " hNormalization)                                                 \n",
            "                                                                 \n",
            " conv2d_2 (Conv2D)           (None, 4, 4, 64)          36864     \n",
            "                                                                 \n",
            " batch_normalization_2 (Batc  (None, 4, 4, 64)         192       \n",
            " hNormalization)                                                 \n",
            "                                                                 \n",
            " flatten (Flatten)           (None, 1024)              0         \n",
            "                                                                 \n",
            " dense (Dense)               (None, 64)                65536     \n",
            "                                                                 \n",
            " batch_normalization_3 (Batc  (None, 64)               192       \n",
            " hNormalization)                                                 \n",
            "                                                                 \n",
            " dense_1 (Dense)             (None, 10)                640       \n",
            "                                                                 \n",
            " batch_normalization_4 (Batc  (None, 10)               30        \n",
            " hNormalization)                                                 \n",
            "                                                                 \n",
            "=================================================================\n",
            "Total params: 123,038\n",
            "Trainable params: 122,570\n",
            "Non-trainable params: 468\n",
            "_________________________________________________________________\n"
          ]
        }
      ]
    },
    {
      "cell_type": "markdown",
      "source": [
        "## 4. Training and evaluation of the normal model\n",
        "\n",
        "To train the same model without binarization and quantization (i.e., using full precision for both weights and activations), we simply need to remove the QuantConv2D and QuantDense layers, replacing them with standard convolutional (Conv2D) and dense (Dense) layers from TensorFlow's Keras API."
      ],
      "metadata": {
        "id": "lrL4fzR1nXfM"
      }
    },
    {
      "cell_type": "code",
      "source": [
        "# Compile the model for normal training\n",
        "model_normal.compile(\n",
        "    optimizer='adam',                       # Adam optimizer\n",
        "    loss=\"sparse_categorical_crossentropy\", # Cross-entropy loss for classification\n",
        "    metrics=[\"accuracy\"]                    # Accuracy as the evaluation metric\n",
        ")\n",
        "\n",
        "# Train the model\n",
        "history_normal = model_normal.fit(\n",
        "    train_images, train_labels,\n",
        "    epochs=50,                        # Number of epochs\n",
        "    batch_size=64,                    # Batch size\n",
        "    validation_data=(test_images, test_labels)  # Use test data for validation\n",
        ")\n",
        "\n",
        "# Evaluate the model on the test dataset\n",
        "test_loss_normal, test_accuracy_normal = model_normal.evaluate(test_images, test_labels)\n",
        "\n",
        "print(f\"Test Accuracy (Normal): {test_accuracy_normal * 100:.2f}%\")\n",
        "print(f\"Test Loss(Normal): {test_loss_normal:.4f}\")"
      ],
      "metadata": {
        "id": "3tns10uNnezJ",
        "colab": {
          "base_uri": "https://localhost:8080/"
        },
        "outputId": "ca4362af-9d6f-418d-fc2a-d3ae7e7f2e3b"
      },
      "execution_count": 6,
      "outputs": [
        {
          "output_type": "stream",
          "name": "stdout",
          "text": [
            "Epoch 1/50\n",
            "782/782 [==============================] - 87s 109ms/step - loss: 8.0414 - accuracy: 0.2043 - val_loss: 6.2237 - val_accuracy: 0.2273\n",
            "Epoch 2/50\n",
            "782/782 [==============================] - 81s 103ms/step - loss: 5.3696 - accuracy: 0.2382 - val_loss: 5.0458 - val_accuracy: 0.2269\n",
            "Epoch 3/50\n",
            "782/782 [==============================] - 87s 111ms/step - loss: 4.1074 - accuracy: 0.2406 - val_loss: 3.3837 - val_accuracy: 0.2497\n",
            "Epoch 4/50\n",
            "782/782 [==============================] - 83s 106ms/step - loss: 4.4716 - accuracy: 0.2230 - val_loss: 4.2817 - val_accuracy: 0.2403\n",
            "Epoch 5/50\n",
            "782/782 [==============================] - 82s 105ms/step - loss: 3.7575 - accuracy: 0.2314 - val_loss: 8.9830 - val_accuracy: 0.1461\n",
            "Epoch 6/50\n",
            "782/782 [==============================] - 83s 106ms/step - loss: 4.7780 - accuracy: 0.1559 - val_loss: 4.2603 - val_accuracy: 0.1640\n",
            "Epoch 7/50\n",
            "782/782 [==============================] - 84s 107ms/step - loss: 4.0454 - accuracy: 0.1605 - val_loss: 3.9177 - val_accuracy: 0.1693\n",
            "Epoch 8/50\n",
            "782/782 [==============================] - 83s 106ms/step - loss: 3.7735 - accuracy: 0.1695 - val_loss: 3.6059 - val_accuracy: 0.1797\n",
            "Epoch 9/50\n",
            "782/782 [==============================] - 88s 113ms/step - loss: 3.2696 - accuracy: 0.1977 - val_loss: 2.8303 - val_accuracy: 0.2247\n",
            "Epoch 10/50\n",
            "782/782 [==============================] - 84s 108ms/step - loss: 2.6234 - accuracy: 0.2359 - val_loss: 2.4925 - val_accuracy: 0.2409\n",
            "Epoch 11/50\n",
            "782/782 [==============================] - 83s 106ms/step - loss: 2.4227 - accuracy: 0.2569 - val_loss: 2.2996 - val_accuracy: 0.2672\n",
            "Epoch 12/50\n",
            "782/782 [==============================] - 82s 105ms/step - loss: 2.3098 - accuracy: 0.2670 - val_loss: 2.1875 - val_accuracy: 0.2790\n",
            "Epoch 13/50\n",
            "782/782 [==============================] - 84s 108ms/step - loss: 2.2461 - accuracy: 0.2627 - val_loss: 2.1695 - val_accuracy: 0.2671\n",
            "Epoch 14/50\n",
            "782/782 [==============================] - 84s 107ms/step - loss: 2.1781 - accuracy: 0.2711 - val_loss: 2.0728 - val_accuracy: 0.2929\n",
            "Epoch 15/50\n",
            "782/782 [==============================] - 83s 106ms/step - loss: 2.2391 - accuracy: 0.2656 - val_loss: 2.1266 - val_accuracy: 0.2869\n",
            "Epoch 16/50\n",
            "782/782 [==============================] - 88s 112ms/step - loss: 2.1371 - accuracy: 0.2871 - val_loss: 2.0581 - val_accuracy: 0.3040\n",
            "Epoch 17/50\n",
            "782/782 [==============================] - 83s 106ms/step - loss: 2.0354 - accuracy: 0.3113 - val_loss: 1.9422 - val_accuracy: 0.3238\n",
            "Epoch 18/50\n",
            "782/782 [==============================] - 82s 104ms/step - loss: 1.9147 - accuracy: 0.3502 - val_loss: 1.9076 - val_accuracy: 0.3666\n",
            "Epoch 19/50\n",
            "782/782 [==============================] - 82s 105ms/step - loss: 1.9003 - accuracy: 0.3576 - val_loss: 1.8125 - val_accuracy: 0.3643\n",
            "Epoch 20/50\n",
            "782/782 [==============================] - 84s 107ms/step - loss: 2.1189 - accuracy: 0.3109 - val_loss: 2.1678 - val_accuracy: 0.3169\n",
            "Epoch 21/50\n",
            "782/782 [==============================] - 84s 107ms/step - loss: 1.9378 - accuracy: 0.3506 - val_loss: 1.7911 - val_accuracy: 0.3900\n",
            "Epoch 22/50\n",
            "782/782 [==============================] - 83s 106ms/step - loss: 1.9449 - accuracy: 0.3534 - val_loss: 1.7987 - val_accuracy: 0.4003\n",
            "Epoch 23/50\n",
            "782/782 [==============================] - 84s 108ms/step - loss: 1.9055 - accuracy: 0.3647 - val_loss: 1.8845 - val_accuracy: 0.3558\n",
            "Epoch 24/50\n",
            "782/782 [==============================] - 83s 106ms/step - loss: 1.9429 - accuracy: 0.3533 - val_loss: 1.9598 - val_accuracy: 0.3318\n",
            "Epoch 25/50\n",
            "782/782 [==============================] - 82s 105ms/step - loss: 1.8726 - accuracy: 0.3682 - val_loss: 1.7387 - val_accuracy: 0.4117\n",
            "Epoch 26/50\n",
            "782/782 [==============================] - 82s 105ms/step - loss: 1.6954 - accuracy: 0.4191 - val_loss: 1.5949 - val_accuracy: 0.4369\n",
            "Epoch 27/50\n",
            "782/782 [==============================] - 83s 106ms/step - loss: 1.6757 - accuracy: 0.4280 - val_loss: 1.5532 - val_accuracy: 0.4591\n",
            "Epoch 28/50\n",
            "782/782 [==============================] - 82s 105ms/step - loss: 1.6036 - accuracy: 0.4541 - val_loss: 1.5601 - val_accuracy: 0.4542\n",
            "Epoch 29/50\n",
            "782/782 [==============================] - 84s 108ms/step - loss: 1.5580 - accuracy: 0.4780 - val_loss: 2.2090 - val_accuracy: 0.2800\n",
            "Epoch 30/50\n",
            "782/782 [==============================] - 84s 108ms/step - loss: 1.8587 - accuracy: 0.3782 - val_loss: 1.6850 - val_accuracy: 0.4164\n",
            "Epoch 31/50\n",
            "782/782 [==============================] - 84s 107ms/step - loss: 1.6178 - accuracy: 0.4560 - val_loss: 1.4900 - val_accuracy: 0.4908\n",
            "Epoch 32/50\n",
            "782/782 [==============================] - 82s 105ms/step - loss: 1.5566 - accuracy: 0.4811 - val_loss: 1.4405 - val_accuracy: 0.5135\n",
            "Epoch 33/50\n",
            "782/782 [==============================] - 82s 105ms/step - loss: 1.5159 - accuracy: 0.4975 - val_loss: 1.5221 - val_accuracy: 0.4644\n",
            "Epoch 34/50\n",
            "782/782 [==============================] - 82s 105ms/step - loss: 1.6209 - accuracy: 0.4742 - val_loss: 1.5360 - val_accuracy: 0.4716\n",
            "Epoch 35/50\n",
            "782/782 [==============================] - 83s 107ms/step - loss: 1.5208 - accuracy: 0.4987 - val_loss: 1.4004 - val_accuracy: 0.5220\n",
            "Epoch 36/50\n",
            "782/782 [==============================] - 83s 106ms/step - loss: 1.4740 - accuracy: 0.5229 - val_loss: 1.3932 - val_accuracy: 0.5240\n",
            "Epoch 37/50\n",
            "782/782 [==============================] - 85s 108ms/step - loss: 1.7032 - accuracy: 0.4451 - val_loss: 1.5357 - val_accuracy: 0.4885\n",
            "Epoch 38/50\n",
            "782/782 [==============================] - 87s 111ms/step - loss: 1.6091 - accuracy: 0.4745 - val_loss: 1.5014 - val_accuracy: 0.5132\n",
            "Epoch 39/50\n",
            "782/782 [==============================] - 87s 112ms/step - loss: 1.4672 - accuracy: 0.5275 - val_loss: 1.4487 - val_accuracy: 0.5043\n",
            "Epoch 40/50\n",
            "782/782 [==============================] - 88s 113ms/step - loss: 1.5373 - accuracy: 0.5016 - val_loss: 1.4930 - val_accuracy: 0.4840\n",
            "Epoch 41/50\n",
            "782/782 [==============================] - 88s 112ms/step - loss: 1.4638 - accuracy: 0.5247 - val_loss: 1.3270 - val_accuracy: 0.5525\n",
            "Epoch 42/50\n",
            "782/782 [==============================] - 88s 112ms/step - loss: 1.5939 - accuracy: 0.4953 - val_loss: 1.4327 - val_accuracy: 0.5256\n",
            "Epoch 43/50\n",
            "782/782 [==============================] - 93s 119ms/step - loss: 1.4152 - accuracy: 0.5488 - val_loss: 1.3006 - val_accuracy: 0.5653\n",
            "Epoch 44/50\n",
            "782/782 [==============================] - 88s 112ms/step - loss: 1.3489 - accuracy: 0.5714 - val_loss: 2.5672 - val_accuracy: 0.4018\n",
            "Epoch 45/50\n",
            "782/782 [==============================] - 85s 109ms/step - loss: 1.4842 - accuracy: 0.5279 - val_loss: 1.4274 - val_accuracy: 0.5314\n",
            "Epoch 46/50\n",
            "782/782 [==============================] - 87s 112ms/step - loss: 1.7224 - accuracy: 0.4708 - val_loss: 1.6063 - val_accuracy: 0.4566\n",
            "Epoch 47/50\n",
            "782/782 [==============================] - 85s 108ms/step - loss: 1.5963 - accuracy: 0.4750 - val_loss: 1.4714 - val_accuracy: 0.5067\n",
            "Epoch 48/50\n",
            "782/782 [==============================] - 89s 114ms/step - loss: 1.4836 - accuracy: 0.5188 - val_loss: 1.3672 - val_accuracy: 0.5343\n",
            "Epoch 49/50\n",
            "782/782 [==============================] - 85s 109ms/step - loss: 1.4498 - accuracy: 0.5327 - val_loss: 1.3155 - val_accuracy: 0.5564\n",
            "Epoch 50/50\n",
            "782/782 [==============================] - 85s 109ms/step - loss: 1.3704 - accuracy: 0.5578 - val_loss: 1.2848 - val_accuracy: 0.5698\n",
            "313/313 [==============================] - 11s 35ms/step - loss: 1.2848 - accuracy: 0.5698\n",
            "Test Accuracy (Normal): 56.98%\n",
            "Test Loss(Normal): 1.2848\n"
          ]
        }
      ]
    },
    {
      "cell_type": "markdown",
      "metadata": {
        "id": "Oewp-wYg31t9"
      },
      "source": [
        "## 5. Creation of a binarized model\n",
        "\n"
      ]
    },
    {
      "cell_type": "code",
      "source": [
        "import larq as lq\n",
        "import tensorflow as tf\n",
        "\n",
        "# Define default quantization options for all layers except the first layer\n",
        "kwargs = dict(\n",
        "    input_quantizer=\"ste_sign\",      # Quantizes activations using Sign-STE (binary quantization to -1 or +1)\n",
        "    kernel_quantizer=\"ste_sign\",     # Quantizes weights to binary values (-1 or +1) with Sign-STE\n",
        "    kernel_constraint=\"weight_clip\"  # Clips weights within a set range (typically -1 to +1) to stabilize training\n",
        ")\n",
        "\n",
        "# Initialize a Sequential model\n",
        "model = tf.keras.models.Sequential()\n",
        "\n",
        "# First layer: Quantized convolutional layer (only quantizing weights, not inputs)\n",
        "model.add(lq.layers.QuantConv2D(\n",
        "    32, (3, 3),                      # 32 filters of size 3x3\n",
        "    kernel_quantizer=\"ste_sign\",     # Quantize weights to -1 or +1\n",
        "    kernel_constraint=\"weight_clip\", # Restrict weights to a range for stability\n",
        "    use_bias=False,                  # Disable bias for simplicity\n",
        "    input_shape=(32, 32, 3)          # Input shape for CIFAR-10 (32x32 RGB images)\n",
        "))\n",
        "model.add(tf.keras.layers.MaxPooling2D((2, 2)))         # Downsample with max pooling\n",
        "model.add(tf.keras.layers.BatchNormalization(scale=False)) # Batch normalization to stabilize activations\n",
        "\n",
        "# Second quantized convolutional layer (quantizes both weights and activations)\n",
        "model.add(lq.layers.QuantConv2D(64, (3, 3), use_bias=False, **kwargs))\n",
        "model.add(tf.keras.layers.MaxPooling2D((2, 2)))         # Downsample again\n",
        "model.add(tf.keras.layers.BatchNormalization(scale=False))\n",
        "\n",
        "# Third quantized convolutional layer (also quantizes both weights and activations)\n",
        "model.add(lq.layers.QuantConv2D(64, (3, 3), use_bias=False, **kwargs))\n",
        "model.add(tf.keras.layers.BatchNormalization(scale=False))\n",
        "model.add(tf.keras.layers.Flatten())                    # Flatten the output for fully connected layers\n",
        "\n",
        "# Quantized dense (fully connected) layer with 64 units\n",
        "model.add(lq.layers.QuantDense(64, use_bias=False, **kwargs))\n",
        "model.add(tf.keras.layers.BatchNormalization(scale=False))\n",
        "\n",
        "# Final quantized dense layer for output (10 classes for CIFAR-10)\n",
        "model.add(lq.layers.QuantDense(10, use_bias=False, **kwargs))\n",
        "model.add(tf.keras.layers.BatchNormalization(scale=False))\n",
        "model.add(tf.keras.layers.Activation(\"softmax\"))        # Softmax activation for classification probabilities\n"
      ],
      "metadata": {
        "id": "_DfUm8dYACH3"
      },
      "execution_count": 19,
      "outputs": []
    },
    {
      "cell_type": "code",
      "source": [
        "lq.models.summary(model)"
      ],
      "metadata": {
        "id": "bH9aNaTZAHo_",
        "outputId": "e9b413d0-7848-4d9b-a0c7-c12d95d5e563",
        "colab": {
          "base_uri": "https://localhost:8080/"
        }
      },
      "execution_count": 8,
      "outputs": [
        {
          "output_type": "stream",
          "name": "stdout",
          "text": [
            "+sequential_1 stats----------------------------------------------------------------------------------------+\n",
            "| Layer                  Input prec.           Outputs  # 1-bit  # 32-bit  Memory  1-bit MACs  32-bit MACs |\n",
            "|                              (bit)                        x 1       x 1    (kB)                          |\n",
            "+----------------------------------------------------------------------------------------------------------+\n",
            "| quant_conv2d                     -  (-1, 30, 30, 32)      864         0    0.11           0       777600 |\n",
            "| max_pooling2d_2                  -  (-1, 15, 15, 32)        0         0       0           0            0 |\n",
            "| batch_normalization_5            -  (-1, 15, 15, 32)        0        64    0.25           0            0 |\n",
            "| quant_conv2d_1                   1  (-1, 13, 13, 64)    18432         0    2.25     3115008            0 |\n",
            "| max_pooling2d_3                  -    (-1, 6, 6, 64)        0         0       0           0            0 |\n",
            "| batch_normalization_6            -    (-1, 6, 6, 64)        0       128    0.50           0            0 |\n",
            "| quant_conv2d_2                   1    (-1, 4, 4, 64)    36864         0    4.50      589824            0 |\n",
            "| batch_normalization_7            -    (-1, 4, 4, 64)        0       128    0.50           0            0 |\n",
            "| flatten_1                        -        (-1, 1024)        0         0       0           0            0 |\n",
            "| quant_dense                      1          (-1, 64)    65536         0    8.00       65536            0 |\n",
            "| batch_normalization_8            -          (-1, 64)        0       128    0.50           0            0 |\n",
            "| quant_dense_1                    1          (-1, 10)      640         0    0.08         640            0 |\n",
            "| batch_normalization_9            -          (-1, 10)        0        20    0.08           0            0 |\n",
            "| activation                       -          (-1, 10)        0         0       0           ?            ? |\n",
            "+----------------------------------------------------------------------------------------------------------+\n",
            "| Total                                                  122336       468   16.76     3771008       777600 |\n",
            "+----------------------------------------------------------------------------------------------------------+\n",
            "+sequential_1 summary--------------------------+\n",
            "| Total params                      123 k      |\n",
            "| Trainable params                  122 k      |\n",
            "| Non-trainable params              468        |\n",
            "| Model size                        16.76 KiB  |\n",
            "| Model size (8-bit FP weights)     15.39 KiB  |\n",
            "| Float-32 Equivalent               479.70 KiB |\n",
            "| Compression Ratio of Memory       0.03       |\n",
            "| Number of MACs                    4.55 M     |\n",
            "| Ratio of MACs that are binarized  0.8290     |\n",
            "+----------------------------------------------+\n"
          ]
        }
      ]
    },
    {
      "cell_type": "markdown",
      "metadata": {
        "id": "P3odqfHP4M67"
      },
      "source": [
        "## 6. Training and evaluation of the binarized model with QAT\n",
        "\n"
      ]
    },
    {
      "cell_type": "code",
      "execution_count": 9,
      "metadata": {
        "id": "MdDzI75PUXrG",
        "outputId": "de08692b-e200-423b-d760-6b39acbe2bc1",
        "colab": {
          "base_uri": "https://localhost:8080/"
        }
      },
      "outputs": [
        {
          "output_type": "stream",
          "name": "stdout",
          "text": [
            "Epoch 1/50\n",
            "782/782 [==============================] - 92s 115ms/step - loss: 1.7331 - accuracy: 0.3877 - val_loss: 1.5767 - val_accuracy: 0.4543\n",
            "Epoch 2/50\n",
            "782/782 [==============================] - 89s 114ms/step - loss: 1.5049 - accuracy: 0.4975 - val_loss: 1.4432 - val_accuracy: 0.5237\n",
            "Epoch 3/50\n",
            "782/782 [==============================] - 88s 113ms/step - loss: 1.4171 - accuracy: 0.5378 - val_loss: 1.4064 - val_accuracy: 0.5353\n",
            "Epoch 4/50\n",
            "782/782 [==============================] - 93s 118ms/step - loss: 1.3661 - accuracy: 0.5593 - val_loss: 1.3566 - val_accuracy: 0.5578\n",
            "Epoch 5/50\n",
            "782/782 [==============================] - 88s 112ms/step - loss: 1.3337 - accuracy: 0.5718 - val_loss: 1.3087 - val_accuracy: 0.5783\n",
            "Epoch 6/50\n",
            "782/782 [==============================] - 93s 119ms/step - loss: 1.2973 - accuracy: 0.5880 - val_loss: 1.3123 - val_accuracy: 0.5788\n",
            "Epoch 7/50\n",
            "782/782 [==============================] - 91s 116ms/step - loss: 1.2779 - accuracy: 0.5957 - val_loss: 1.2894 - val_accuracy: 0.5916\n",
            "Epoch 8/50\n",
            "782/782 [==============================] - 88s 113ms/step - loss: 1.2624 - accuracy: 0.6018 - val_loss: 1.3448 - val_accuracy: 0.5523\n",
            "Epoch 9/50\n",
            "782/782 [==============================] - 89s 114ms/step - loss: 1.2491 - accuracy: 0.6072 - val_loss: 1.2846 - val_accuracy: 0.5857\n",
            "Epoch 10/50\n",
            "782/782 [==============================] - 89s 114ms/step - loss: 1.2438 - accuracy: 0.6102 - val_loss: 1.2820 - val_accuracy: 0.5905\n",
            "Epoch 11/50\n",
            "782/782 [==============================] - 88s 112ms/step - loss: 1.2270 - accuracy: 0.6179 - val_loss: 1.2729 - val_accuracy: 0.5982\n",
            "Epoch 12/50\n",
            "782/782 [==============================] - 87s 111ms/step - loss: 1.2245 - accuracy: 0.6193 - val_loss: 1.2631 - val_accuracy: 0.6032\n",
            "Epoch 13/50\n",
            "782/782 [==============================] - 89s 114ms/step - loss: 1.2142 - accuracy: 0.6242 - val_loss: 1.2489 - val_accuracy: 0.6084\n",
            "Epoch 14/50\n",
            "782/782 [==============================] - 89s 114ms/step - loss: 1.2079 - accuracy: 0.6271 - val_loss: 1.2189 - val_accuracy: 0.6274\n",
            "Epoch 15/50\n",
            "782/782 [==============================] - 87s 111ms/step - loss: 1.2018 - accuracy: 0.6283 - val_loss: 1.1985 - val_accuracy: 0.6242\n",
            "Epoch 16/50\n",
            "782/782 [==============================] - 87s 111ms/step - loss: 1.1961 - accuracy: 0.6297 - val_loss: 1.2663 - val_accuracy: 0.5955\n",
            "Epoch 17/50\n",
            "782/782 [==============================] - 88s 112ms/step - loss: 1.1951 - accuracy: 0.6305 - val_loss: 1.2286 - val_accuracy: 0.6139\n",
            "Epoch 18/50\n",
            "782/782 [==============================] - 88s 112ms/step - loss: 1.1894 - accuracy: 0.6337 - val_loss: 1.2143 - val_accuracy: 0.6224\n",
            "Epoch 19/50\n",
            "782/782 [==============================] - 88s 113ms/step - loss: 1.1829 - accuracy: 0.6394 - val_loss: 1.2256 - val_accuracy: 0.6086\n",
            "Epoch 20/50\n",
            "782/782 [==============================] - 91s 116ms/step - loss: 1.1844 - accuracy: 0.6386 - val_loss: 1.2789 - val_accuracy: 0.6023\n",
            "Epoch 21/50\n",
            "782/782 [==============================] - 87s 111ms/step - loss: 1.1862 - accuracy: 0.6377 - val_loss: 1.2382 - val_accuracy: 0.6179\n",
            "Epoch 22/50\n",
            "782/782 [==============================] - 88s 113ms/step - loss: 1.1877 - accuracy: 0.6372 - val_loss: 1.2558 - val_accuracy: 0.6127\n",
            "Epoch 23/50\n",
            "782/782 [==============================] - 87s 111ms/step - loss: 1.1809 - accuracy: 0.6370 - val_loss: 1.2367 - val_accuracy: 0.6144\n",
            "Epoch 24/50\n",
            "782/782 [==============================] - 89s 114ms/step - loss: 1.1786 - accuracy: 0.6400 - val_loss: 1.2168 - val_accuracy: 0.6182\n",
            "Epoch 25/50\n",
            "782/782 [==============================] - 91s 116ms/step - loss: 1.1775 - accuracy: 0.6412 - val_loss: 1.2153 - val_accuracy: 0.6189\n",
            "Epoch 26/50\n",
            "782/782 [==============================] - 91s 117ms/step - loss: 1.1746 - accuracy: 0.6410 - val_loss: 1.2254 - val_accuracy: 0.6179\n",
            "Epoch 27/50\n",
            "782/782 [==============================] - 91s 117ms/step - loss: 1.1731 - accuracy: 0.6411 - val_loss: 1.3259 - val_accuracy: 0.5760\n",
            "Epoch 28/50\n",
            "782/782 [==============================] - 88s 113ms/step - loss: 1.1708 - accuracy: 0.6415 - val_loss: 1.2322 - val_accuracy: 0.6067\n",
            "Epoch 29/50\n",
            "782/782 [==============================] - 88s 113ms/step - loss: 1.1663 - accuracy: 0.6441 - val_loss: 1.2562 - val_accuracy: 0.6021\n",
            "Epoch 30/50\n",
            "782/782 [==============================] - 88s 113ms/step - loss: 1.1661 - accuracy: 0.6442 - val_loss: 1.2350 - val_accuracy: 0.6188\n",
            "Epoch 31/50\n",
            "782/782 [==============================] - 88s 112ms/step - loss: 1.1640 - accuracy: 0.6469 - val_loss: 1.2283 - val_accuracy: 0.6157\n",
            "Epoch 32/50\n",
            "782/782 [==============================] - 88s 113ms/step - loss: 1.1659 - accuracy: 0.6448 - val_loss: 1.2305 - val_accuracy: 0.6230\n",
            "Epoch 33/50\n",
            "782/782 [==============================] - 88s 112ms/step - loss: 1.1624 - accuracy: 0.6486 - val_loss: 1.2869 - val_accuracy: 0.5901\n",
            "Epoch 34/50\n",
            "782/782 [==============================] - 87s 111ms/step - loss: 1.1565 - accuracy: 0.6502 - val_loss: 1.2203 - val_accuracy: 0.6194\n",
            "Epoch 35/50\n",
            "782/782 [==============================] - 88s 112ms/step - loss: 1.1609 - accuracy: 0.6460 - val_loss: 1.2423 - val_accuracy: 0.6050\n",
            "Epoch 36/50\n",
            "782/782 [==============================] - 89s 114ms/step - loss: 1.1572 - accuracy: 0.6500 - val_loss: 1.2060 - val_accuracy: 0.6301\n",
            "Epoch 37/50\n",
            "782/782 [==============================] - 89s 114ms/step - loss: 1.1576 - accuracy: 0.6505 - val_loss: 1.2225 - val_accuracy: 0.6110\n",
            "Epoch 38/50\n",
            "782/782 [==============================] - 92s 117ms/step - loss: 1.1548 - accuracy: 0.6496 - val_loss: 1.2323 - val_accuracy: 0.6078\n",
            "Epoch 39/50\n",
            "782/782 [==============================] - 92s 118ms/step - loss: 1.1501 - accuracy: 0.6526 - val_loss: 1.1853 - val_accuracy: 0.6320\n",
            "Epoch 40/50\n",
            "782/782 [==============================] - 93s 119ms/step - loss: 1.1501 - accuracy: 0.6499 - val_loss: 1.1702 - val_accuracy: 0.6398\n",
            "Epoch 41/50\n",
            "782/782 [==============================] - 93s 118ms/step - loss: 1.1481 - accuracy: 0.6551 - val_loss: 1.2392 - val_accuracy: 0.6101\n",
            "Epoch 42/50\n",
            "782/782 [==============================] - 91s 117ms/step - loss: 1.1538 - accuracy: 0.6494 - val_loss: 1.2177 - val_accuracy: 0.6243\n",
            "Epoch 43/50\n",
            "782/782 [==============================] - 88s 113ms/step - loss: 1.1486 - accuracy: 0.6530 - val_loss: 1.2320 - val_accuracy: 0.6152\n",
            "Epoch 44/50\n",
            "782/782 [==============================] - 86s 110ms/step - loss: 1.1455 - accuracy: 0.6536 - val_loss: 1.1968 - val_accuracy: 0.6221\n",
            "Epoch 45/50\n",
            "782/782 [==============================] - 89s 114ms/step - loss: 1.1488 - accuracy: 0.6522 - val_loss: 1.2375 - val_accuracy: 0.6090\n",
            "Epoch 46/50\n",
            "782/782 [==============================] - 87s 111ms/step - loss: 1.1493 - accuracy: 0.6528 - val_loss: 1.1934 - val_accuracy: 0.6337\n",
            "Epoch 47/50\n",
            "782/782 [==============================] - 91s 116ms/step - loss: 1.1458 - accuracy: 0.6540 - val_loss: 1.2378 - val_accuracy: 0.6170\n",
            "Epoch 48/50\n",
            "782/782 [==============================] - 89s 113ms/step - loss: 1.1516 - accuracy: 0.6501 - val_loss: 1.2608 - val_accuracy: 0.5988\n",
            "Epoch 49/50\n",
            "782/782 [==============================] - 87s 111ms/step - loss: 1.1477 - accuracy: 0.6533 - val_loss: 1.2120 - val_accuracy: 0.6187\n",
            "Epoch 50/50\n",
            "782/782 [==============================] - 90s 116ms/step - loss: 1.1450 - accuracy: 0.6515 - val_loss: 1.2034 - val_accuracy: 0.6268\n",
            "313/313 [==============================] - 5s 17ms/step - loss: 1.2034 - accuracy: 0.6268\n",
            "Test Accuracy: 62.68%\n",
            "Test Loss: 1.2034\n"
          ]
        }
      ],
      "source": [
        "# Compile the model with an optimizer and loss function\n",
        "model.compile(\n",
        "    optimizer='adam',                      # Adam optimizer is often effective for training binarized networks\n",
        "    loss=\"sparse_categorical_crossentropy\",# Cross-entropy loss for classification\n",
        "    metrics=[\"accuracy\"]                   # Accuracy as the evaluation metric\n",
        ")\n",
        "\n",
        "# Train the model where QAT takes place as the model learns to optimize quantized weights and activations.\n",
        "history = model.fit(\n",
        "    train_images, train_labels,\n",
        "    epochs=50,                           # Number of training epochs\n",
        "    batch_size=64,                      # Batch size for training\n",
        "    validation_data=(test_images, test_labels) # Evaluate on test set after each epoch\n",
        ")\n",
        "\n",
        "# Evaluate the model on the test dataset\n",
        "test_loss, test_accuracy = model.evaluate(test_images, test_labels)\n",
        "\n",
        "print(f\"Test Accuracy: {test_accuracy * 100:.2f}%\")\n",
        "print(f\"Test Loss: {test_loss:.4f}\")"
      ]
    },
    {
      "cell_type": "code",
      "source": [
        "import matplotlib.pyplot as plt\n",
        "\n",
        "# Plot training & validation accuracy values for both models\n",
        "plt.figure(figsize=(12, 5))\n",
        "\n",
        "# Accuracy plot\n",
        "plt.subplot(1, 2, 1)\n",
        "plt.plot(history.history['accuracy'], label='Train Accuracy (Binarized)')\n",
        "plt.plot(history.history['val_accuracy'], label='Validation Accuracy (Binarized)')\n",
        "plt.plot(history_normal.history['accuracy'], label='Train Accuracy (Normal)')\n",
        "plt.plot(history_normal.history['val_accuracy'], label='Validation Accuracy (Normal)')\n",
        "plt.title('Model Accuracy Comparison')\n",
        "plt.xlabel('Epoch')\n",
        "plt.ylabel('Accuracy')\n",
        "plt.legend(loc='lower right')\n",
        "\n",
        "# Loss plot\n",
        "plt.subplot(1, 2, 2)\n",
        "plt.plot(history.history['loss'], label='Train Loss (Binarized)')\n",
        "plt.plot(history.history['val_loss'], label='Validation Loss (Binarized)')\n",
        "plt.plot(history_normal.history['loss'], label='Train Loss (Normal)')\n",
        "plt.plot(history_normal.history['val_loss'], label='Validation Loss (Normal)')\n",
        "plt.title('Model Loss Comparison')\n",
        "plt.xlabel('Epoch')\n",
        "plt.ylabel('Loss')\n",
        "plt.legend(loc='upper right')\n",
        "\n",
        "plt.tight_layout()\n",
        "plt.show()\n"
      ],
      "metadata": {
        "id": "cXdkJ5d2oCp1",
        "outputId": "c033d721-5a4d-42ff-f6f0-350664749379",
        "colab": {
          "base_uri": "https://localhost:8080/",
          "height": 507
        }
      },
      "execution_count": 10,
      "outputs": [
        {
          "output_type": "display_data",
          "data": {
            "text/plain": [
              "<Figure size 1200x500 with 2 Axes>"
            ],
            "image/png": "[encoded data removed]"
          },
          "metadata": {}
        }
      ]
    },
    {
      "cell_type": "markdown",
      "source": [
        "## 7. Compare models\n",
        "\n",
        "###**A. SIZE**\n",
        "\n",
        "We can evaluate how much memory each model takes up, specifically looking at the number of parameters (weights) in each model. The size of the model can be directly related to the total number of parameters, since each parameter is a floating-point value and requires memory for storage."
      ],
      "metadata": {
        "id": "7jE4e_Xhyv5k"
      }
    },
    {
      "cell_type": "code",
      "source": [
        "# Print summary of both models to compare parameters\n",
        "print(\"\\nBinarized Model Summary:\")\n",
        "model.summary()\n",
        "\n",
        "print(\"Normal Model Summary:\")\n",
        "model_normal.summary()"
      ],
      "metadata": {
        "id": "rF4SPUc8zOi-",
        "outputId": "2106b32a-c745-4efc-a3de-11b236cb2ec6",
        "colab": {
          "base_uri": "https://localhost:8080/"
        }
      },
      "execution_count": 11,
      "outputs": [
        {
          "output_type": "stream",
          "name": "stdout",
          "text": [
            "\n",
            "Binarized Model Summary:\n",
            "Model: \"sequential_1\"\n",
            "_________________________________________________________________\n",
            " Layer (type)                Output Shape              Param #   \n",
            "=================================================================\n",
            " quant_conv2d (QuantConv2D)  (None, 30, 30, 32)        864       \n",
            "                                                                 \n",
            " max_pooling2d_2 (MaxPooling  (None, 15, 15, 32)       0         \n",
            " 2D)                                                             \n",
            "                                                                 \n",
            " batch_normalization_5 (Batc  (None, 15, 15, 32)       96        \n",
            " hNormalization)                                                 \n",
            "                                                                 \n",
            " quant_conv2d_1 (QuantConv2D  (None, 13, 13, 64)       18432     \n",
            " )                                                               \n",
            "                                                                 \n",
            " max_pooling2d_3 (MaxPooling  (None, 6, 6, 64)         0         \n",
            " 2D)                                                             \n",
            "                                                                 \n",
            " batch_normalization_6 (Batc  (None, 6, 6, 64)         192       \n",
            " hNormalization)                                                 \n",
            "                                                                 \n",
            " quant_conv2d_2 (QuantConv2D  (None, 4, 4, 64)         36864     \n",
            " )                                                               \n",
            "                                                                 \n",
            " batch_normalization_7 (Batc  (None, 4, 4, 64)         192       \n",
            " hNormalization)                                                 \n",
            "                                                                 \n",
            " flatten_1 (Flatten)         (None, 1024)              0         \n",
            "                                                                 \n",
            " quant_dense (QuantDense)    (None, 64)                65536     \n",
            "                                                                 \n",
            " batch_normalization_8 (Batc  (None, 64)               192       \n",
            " hNormalization)                                                 \n",
            "                                                                 \n",
            " quant_dense_1 (QuantDense)  (None, 10)                640       \n",
            "                                                                 \n",
            " batch_normalization_9 (Batc  (None, 10)               30        \n",
            " hNormalization)                                                 \n",
            "                                                                 \n",
            " activation (Activation)     (None, 10)                0         \n",
            "                                                                 \n",
            "=================================================================\n",
            "Total params: 123,038\n",
            "Trainable params: 122,570\n",
            "Non-trainable params: 468\n",
            "_________________________________________________________________\n",
            "Normal Model Summary:\n",
            "Model: \"sequential\"\n",
            "_________________________________________________________________\n",
            " Layer (type)                Output Shape              Param #   \n",
            "=================================================================\n",
            " conv2d (Conv2D)             (None, 30, 30, 32)        864       \n",
            "                                                                 \n",
            " max_pooling2d (MaxPooling2D  (None, 15, 15, 32)       0         \n",
            " )                                                               \n",
            "                                                                 \n",
            " batch_normalization (BatchN  (None, 15, 15, 32)       96        \n",
            " ormalization)                                                   \n",
            "                                                                 \n",
            " conv2d_1 (Conv2D)           (None, 13, 13, 64)        18432     \n",
            "                                                                 \n",
            " max_pooling2d_1 (MaxPooling  (None, 6, 6, 64)         0         \n",
            " 2D)                                                             \n",
            "                                                                 \n",
            " batch_normalization_1 (Batc  (None, 6, 6, 64)         192       \n",
            " hNormalization)                                                 \n",
            "                                                                 \n",
            " conv2d_2 (Conv2D)           (None, 4, 4, 64)          36864     \n",
            "                                                                 \n",
            " batch_normalization_2 (Batc  (None, 4, 4, 64)         192       \n",
            " hNormalization)                                                 \n",
            "                                                                 \n",
            " flatten (Flatten)           (None, 1024)              0         \n",
            "                                                                 \n",
            " dense (Dense)               (None, 64)                65536     \n",
            "                                                                 \n",
            " batch_normalization_3 (Batc  (None, 64)               192       \n",
            " hNormalization)                                                 \n",
            "                                                                 \n",
            " dense_1 (Dense)             (None, 10)                640       \n",
            "                                                                 \n",
            " batch_normalization_4 (Batc  (None, 10)               30        \n",
            " hNormalization)                                                 \n",
            "                                                                 \n",
            "=================================================================\n",
            "Total params: 123,038\n",
            "Trainable params: 122,570\n",
            "Non-trainable params: 468\n",
            "_________________________________________________________________\n"
          ]
        }
      ]
    },
    {
      "cell_type": "code",
      "source": [
        "\n",
        "# Calculate the model size in bytes\n",
        "def calculate_model_size(model, is_binarized=False):\n",
        "    total_params = model.count_params()\n",
        "\n",
        "    if is_binarized:\n",
        "        # Binarized model parameters are stored in 1 byte per parameter\n",
        "        return total_params  # 1 byte per parameter for binarized model\n",
        "    else:\n",
        "        # Normal model parameters are stored in 4 bytes per parameter (32-bit floating point)\n",
        "        return total_params * 4  # 4 bytes per parameter for normal model\n",
        "\n",
        "# Get the sizes of both models\n",
        "normal_model_size = calculate_model_size(model_normal, is_binarized=False)\n",
        "binarized_model_size = calculate_model_size(model, is_binarized=True)\n",
        "\n",
        "# Print the model sizes in MB\n",
        "print(f\"Normal Model Size: {normal_model_size / (1024**2):.2f} MB\")\n",
        "print(f\"Binarized Model Size: {binarized_model_size / (1024**2):.2f} MB\")\n"
      ],
      "metadata": {
        "id": "uJMrez8fz-3Q",
        "outputId": "53732f29-950b-4064-d610-bd57cee2f5bc",
        "colab": {
          "base_uri": "https://localhost:8080/"
        }
      },
      "execution_count": 12,
      "outputs": [
        {
          "output_type": "stream",
          "name": "stdout",
          "text": [
            "Normal Model Size: 0.47 MB\n",
            "Binarized Model Size: 0.12 MB\n"
          ]
        }
      ]
    },
    {
      "cell_type": "code",
      "source": [
        "# Save both models to disk\n",
        "model.save(\"binarized_model.h5\")\n",
        "model_normal.save(\"normal_model.h5\")\n",
        "\n",
        "# Compare file sizes\n",
        "import os\n",
        "\n",
        "binarized_model_size = os.path.getsize(\"binarized_model.h5\") / (1024**2)\n",
        "normal_model_size = os.path.getsize(\"normal_model.h5\") / (1024**2)  # Size in MB\n",
        "\n",
        "\n",
        "print(f\"Normal Model File Size: {normal_model_size:.2f} MB\")\n",
        "print(f\"Binarized Model File Size: {binarized_model_size:.2f} MB\")"
      ],
      "metadata": {
        "id": "ZcMz7qzZ0TuH",
        "outputId": "d571d2be-c58e-41bf-fafd-4048d018e881",
        "colab": {
          "base_uri": "https://localhost:8080/"
        }
      },
      "execution_count": 13,
      "outputs": [
        {
          "output_type": "stream",
          "name": "stdout",
          "text": [
            "Normal Model File Size: 1.48 MB\n",
            "Binarized Model File Size: 1.48 MB\n"
          ]
        }
      ]
    },
    {
      "cell_type": "code",
      "source": [
        "import time\n",
        "\n",
        "# Function to measure inference time\n",
        "def measure_inference_time(model, test_images):\n",
        "    start_time = time.time()\n",
        "    predictions = model.predict(test_images)\n",
        "    end_time = time.time()\n",
        "\n",
        "    inference_time = end_time - start_time  # Time taken in seconds\n",
        "    return inference_time\n",
        "\n",
        "# Choose a batch of 100 test samples for inference time\n",
        "batch_size = 100\n",
        "test_batch = test_images[:batch_size]\n",
        "\n",
        "# Measure inference time for both models\n",
        "inference_time_normal = measure_inference_time(model_normal, test_batch)\n",
        "inference_time_binarized = measure_inference_time(model, test_batch)\n",
        "\n",
        "print(f\"Inference Time (Normal Model): {inference_time_normal:.4f} seconds\")\n",
        "print(f\"Inference Time (Binarized Model): {inference_time_binarized:.4f} seconds\")"
      ],
      "metadata": {
        "id": "al5-N2Nk2BuL",
        "outputId": "654f1bc8-e72b-499b-c374-3be7a36b94a1",
        "colab": {
          "base_uri": "https://localhost:8080/"
        }
      },
      "execution_count": 14,
      "outputs": [
        {
          "output_type": "stream",
          "name": "stdout",
          "text": [
            "4/4 [==============================] - 0s 16ms/step\n",
            "4/4 [==============================] - 0s 12ms/step\n",
            "Inference Time (Normal Model): 0.4866 seconds\n",
            "Inference Time (Binarized Model): 0.4545 seconds\n"
          ]
        }
      ]
    },
    {
      "cell_type": "code",
      "source": [
        "# Function to measure throughput (images per second)\n",
        "def measure_throughput(model, test_images, batch_size=10000):\n",
        "    start_time = time.time()\n",
        "    model.predict(test_images[:batch_size])  # Make prediction on a batch\n",
        "    end_time = time.time()\n",
        "\n",
        "    time_taken = end_time - start_time\n",
        "    throughput = batch_size / time_taken  # Images per second\n",
        "    return throughput\n",
        "\n",
        "# Measure throughput for both models\n",
        "throughput_normal = measure_throughput(model_normal, test_images, batch_size)\n",
        "throughput_binarized = measure_throughput(model, test_images, batch_size)\n",
        "\n",
        "print(f\"Throughput (Normal Model): {throughput_normal:.2f} images per second\")\n",
        "print(f\"Throughput (Binarized Model): {throughput_binarized:.2f} images per second\")"
      ],
      "metadata": {
        "id": "H6C4dWCF24bw",
        "outputId": "f500b7d1-4fec-44d5-f309-0fc348935365",
        "colab": {
          "base_uri": "https://localhost:8080/"
        }
      },
      "execution_count": 15,
      "outputs": [
        {
          "output_type": "stream",
          "name": "stdout",
          "text": [
            "4/4 [==============================] - 0s 12ms/step\n",
            "4/4 [==============================] - 0s 12ms/step\n",
            "Throughput (Normal Model): 510.19 images per second\n",
            "Throughput (Binarized Model): 797.08 images per second\n"
          ]
        }
      ]
    },
    {
      "cell_type": "code",
      "source": [
        "# Evaluate the accuracy of both models\n",
        "test_loss_normal, test_accuracy_normal = model_normal.evaluate(test_images, test_labels)\n",
        "test_loss_binarized, test_accuracy_binarized = model.evaluate(test_images, test_labels)\n",
        "\n",
        "print(f\"Test Accuracy (Normal Model): {test_accuracy_normal * 100:.2f}%\")\n",
        "print(f\"Test Accuracy (Binarized Model): {test_accuracy_binarized * 100:.2f}%\")"
      ],
      "metadata": {
        "id": "lpH4IX403e0v",
        "outputId": "5b900541-826a-4994-943d-02366d493d2d",
        "colab": {
          "base_uri": "https://localhost:8080/"
        }
      },
      "execution_count": 16,
      "outputs": [
        {
          "output_type": "stream",
          "name": "stdout",
          "text": [
            "313/313 [==============================] - 6s 20ms/step - loss: 1.2848 - accuracy: 0.5698\n",
            "313/313 [==============================] - 5s 17ms/step - loss: 1.2034 - accuracy: 0.6268\n",
            "Test Accuracy (Normal Model): 56.98%\n",
            "Test Accuracy (Binarized Model): 62.68%\n"
          ]
        }
      ]
    },
    {
      "cell_type": "code",
      "source": [
        "import psutil\n",
        "import os\n",
        "\n",
        "# Function to get current memory usage\n",
        "def get_memory_usage():\n",
        "    process = psutil.Process(os.getpid())\n",
        "    return process.memory_info().rss / (1024 ** 2)  # Memory in MB\n",
        "\n",
        "# Measure memory usage during inference for both models\n",
        "memory_usage_normal_start = get_memory_usage()\n",
        "model_normal.predict(test_batch)  # Inference on the normal model\n",
        "memory_usage_normal_end = get_memory_usage()\n",
        "\n",
        "memory_usage_binarized_start = get_memory_usage()\n",
        "model.predict(test_batch)  # Inference on the binarized model\n",
        "memory_usage_binarized_end = get_memory_usage()\n",
        "\n",
        "print(f\"Memory Usage (Normal Model): {memory_usage_normal_end - memory_usage_normal_start:.2f} MB\")\n",
        "print(f\"Memory Usage (Binarized Model): {memory_usage_binarized_end - memory_usage_binarized_start:.2f} MB\")"
      ],
      "metadata": {
        "id": "MomWvnsv30g8",
        "outputId": "833dcae1-9f1e-4b6e-d088-978771bb833d",
        "colab": {
          "base_uri": "https://localhost:8080/"
        }
      },
      "execution_count": 17,
      "outputs": [
        {
          "output_type": "stream",
          "name": "stdout",
          "text": [
            "4/4 [==============================] - 0s 11ms/step\n",
            "4/4 [==============================] - 0s 13ms/step\n",
            "Memory Usage (Normal Model): 2.36 MB\n",
            "Memory Usage (Binarized Model): -232.03 MB\n"
          ]
        }
      ]
    },
    {
      "cell_type": "code",
      "source": [
        "import psutil\n",
        "import os\n",
        "\n",
        "# Function to get current memory usage\n",
        "def get_memory_usage():\n",
        "    process = psutil.Process(os.getpid())\n",
        "    return process.memory_info().rss / (1024 ** 2)  # Memory in MB\n",
        "\n",
        "# Measure memory usage during inference for both models\n",
        "memory_usage_normal_start = get_memory_usage()\n",
        "model_normal.predict(test_batch)  # Inference on the normal model\n",
        "memory_usage_normal_end = get_memory_usage()\n",
        "\n",
        "memory_usage_binarized_start = get_memory_usage()\n",
        "model.predict(test_batch)  # Inference on the binarized model\n",
        "memory_usage_binarized_end = get_memory_usage()\n",
        "\n",
        "print(f\"Memory Usage (Normal Model): {memory_usage_normal_end - memory_usage_normal_start:.2f} MB\")\n",
        "print(f\"Memory Usage (Binarized Model): {memory_usage_binarized_end - memory_usage_binarized_start:.2f} MB\")"
      ],
      "metadata": {
        "id": "oJddE8osFnOh",
        "outputId": "8e59600c-ad0f-4985-da36-4ba0f2ad2d60",
        "colab": {
          "base_uri": "https://localhost:8080/"
        }
      },
      "execution_count": 18,
      "outputs": [
        {
          "output_type": "stream",
          "name": "stdout",
          "text": [
            "4/4 [==============================] - 0s 11ms/step\n",
            "4/4 [==============================] - 0s 16ms/step\n",
            "Memory Usage (Normal Model): 0.00 MB\n",
            "Memory Usage (Binarized Model): 0.00 MB\n"
          ]
        }
      ]
    }
  ]
}