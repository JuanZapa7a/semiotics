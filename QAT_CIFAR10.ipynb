{
  "nbformat": 4,
  "nbformat_minor": 0,
  "metadata": {
    "colab": {
      "provenance": [],
      "authorship_tag": "ABX9TyMO2BsMKCj3up6KOJfjCMby",
      "include_colab_link": true
    },
    "kernelspec": {
      "name": "python3",
      "display_name": "Python 3"
    },
    "language_info": {
      "name": "python"
    }
  },
  "cells": [
    {
      "cell_type": "markdown",
      "metadata": {
        "id": "view-in-github",
        "colab_type": "text"
      },
      "source": [
        "<a href=\"https://colab.research.google.com/github/JuanZapa7a/semiotics/blob/main/QAT_CIFAR10.ipynb\" target=\"_parent\"><img src=\"https://colab.research.google.com/assets/colab-badge.svg\" alt=\"Open In Colab\"/></a>"
      ]
    },
    {
      "cell_type": "markdown",
      "metadata": {
        "id": "SsenkQwcgV6H"
      },
      "source": [
        "# Quantization Aware Training (QAT) using Larq for binarized quantization with the CIFAR10 dataset\n",
        "\n",
        "\n",
        "\n"
      ]
    },
    {
      "cell_type": "markdown",
      "source": [
        "## 1. Installation of Larq and necessary dependencies"
      ],
      "metadata": {
        "id": "op030X-yW5Pv"
      }
    },
    {
      "cell_type": "code",
      "execution_count": null,
      "metadata": {
        "id": "iAve6DCL4JH4"
      },
      "outputs": [],
      "source": [
        "!pip -q install tensorflow==2.10.0\n",
        "!pip -q install larq==0.13.1\n",
        "\n",
        "import tensorflow as tf\n",
        "import larq as lq"
      ]
    },
    {
      "cell_type": "markdown",
      "metadata": {
        "id": "jRFxccghyMVo"
      },
      "source": [
        "## 2. Data preparation (CIFAR10)\n",
        "\n",
        "Download and prepare the CIFAR10 dataset.\n",
        "CIFAR-10 contains images of size $32 \\times 32 \\times 3$, includes 10 classes and already comes with 3 colour channels (RGB).\n",
        "\n",
        "The code will display the dimensions of the images and labels:\n",
        "- **Training images:** `(50000, 32, 32, 3)`\n",
        "- **Training labels:** `(50000, 1)`\n",
        "- **Test images:** `(10000, 32, 32, 3)`\n",
        "- **Test labels:** `(10000, 1)`\n"
      ]
    },
    {
      "cell_type": "code",
      "source": [
        "import tensorflow as tf\n",
        "\n",
        "# Load the CIFAR-10 dataset\n",
        "(train_images, train_labels), (test_images, test_labels) = tf.keras.datasets.cifar10.load_data()\n",
        "\n",
        "# Check the original dimensions of CIFAR-10\n",
        "# Should be (50000, 32, 32, 3) for train_images and (10000, 32, 32, 3) for test_images\n",
        "print(\"Original dimensions:\")\n",
        "print(\"Train images:\", train_images.shape)\n",
        "print(\"Test images:\", test_images.shape)\n",
        "\n",
        "# Normalize the images to the range [-1, 1]\n",
        "train_images, test_images = train_images / 127.5 - 1, test_images / 127.5 - 1\n",
        "\n",
        "# Check dimensions after normalization\n",
        "print(\"Dimensions after normalization:\")\n",
        "print(\"Train images:\", train_images.shape, \"Train labels:\", train_labels.shape)\n",
        "print(\"Test images:\", test_images.shape, \"Test labels:\", test_labels.shape)\n",
        "\n"
      ],
      "metadata": {
        "id": "cwd9EyaW279M",
        "outputId": "a4ca8a8d-20c9-40a2-b2dd-0324d7a6e6b2",
        "colab": {
          "base_uri": "https://localhost:8080/"
        }
      },
      "execution_count": null,
      "outputs": [
        {
          "output_type": "stream",
          "name": "stdout",
          "text": [
            "Original dimensions:\n",
            "Train images: (50000, 32, 32, 3)\n",
            "Test images: (10000, 32, 32, 3)\n",
            "Dimensions after normalization:\n",
            "Train images: (50000, 32, 32, 3) Train labels: (50000, 1)\n",
            "Test images: (10000, 32, 32, 3) Test labels: (10000, 1)\n"
          ]
        }
      ]
    },
    {
      "cell_type": "markdown",
      "source": [
        "## 3. Creation of a base model.\n",
        "\n",
        "To train the same model without binarization and quantization (i.e., using full precision for both weights and activations), we simply need to remove the QuantConv2D and QuantDense layers, replacing them with standard convolutional (Conv2D) and dense (Dense) layers from TensorFlow's Keras API."
      ],
      "metadata": {
        "id": "HL1KjCFYm1vv"
      }
    },
    {
      "cell_type": "code",
      "source": [
        "import tensorflow as tf\n",
        "\n",
        "# Define the standard (non-binarized) model architecture\n",
        "model_normal = tf.keras.models.Sequential()\n",
        "\n",
        "# First layer: Standard convolutional layer (no quantization)\n",
        "model_normal.add(tf.keras.layers.Conv2D(\n",
        "    32, (3, 3),                        # 32 filters of size 3x3\n",
        "    activation=\"relu\",                 # Use ReLU activation instead of binary\n",
        "    use_bias=False,                    # No bias for simplicity\n",
        "    input_shape=(32, 32, 3)            # Input shape for CIFAR-10\n",
        "))\n",
        "model_normal.add(tf.keras.layers.MaxPooling2D((2, 2)))    # Max pooling for downsampling\n",
        "model_normal.add(tf.keras.layers.BatchNormalization(scale=False)) # Batch normalization\n",
        "\n",
        "# Second standard convolutional layer\n",
        "model_normal.add(tf.keras.layers.Conv2D(\n",
        "    64, (3, 3),\n",
        "    activation=\"relu\",\n",
        "    use_bias=False,\n",
        "))\n",
        "model_normal.add(tf.keras.layers.MaxPooling2D((2, 2)))     # Max pooling\n",
        "model_normal.add(tf.keras.layers.BatchNormalization(scale=False))\n",
        "\n",
        "# Third standard convolutional layer\n",
        "model_normal.add(tf.keras.layers.Conv2D(\n",
        "    64, (3, 3),\n",
        "    activation=\"relu\",\n",
        "    use_bias=False,\n",
        "))\n",
        "model_normal.add(tf.keras.layers.BatchNormalization(scale=False))\n",
        "model_normal.add(tf.keras.layers.Flatten())                # Flatten the output for the dense layers\n",
        "\n",
        "# Fully connected (dense) layer with 64 units\n",
        "model_normal.add(tf.keras.layers.Dense(64, activation=\"relu\", use_bias=False))\n",
        "model_normal.add(tf.keras.layers.BatchNormalization(scale=False))\n",
        "\n",
        "# Output layer for classification (10 classes for CIFAR-10)\n",
        "model_normal.add(tf.keras.layers.Dense(10, activation=\"softmax\", use_bias=False))\n",
        "model_normal.add(tf.keras.layers.BatchNormalization(scale=False))\n"
      ],
      "metadata": {
        "id": "bx7GOuZ14mzH"
      },
      "execution_count": null,
      "outputs": []
    },
    {
      "cell_type": "code",
      "source": [
        "model_normal.summary()"
      ],
      "metadata": {
        "id": "3qsl5mxp4snK",
        "outputId": "56a4f8ab-3b0c-45a5-a779-6d1b125092e7",
        "colab": {
          "base_uri": "https://localhost:8080/"
        }
      },
      "execution_count": null,
      "outputs": [
        {
          "output_type": "stream",
          "name": "stdout",
          "text": [
            "Model: \"sequential\"\n",
            "_________________________________________________________________\n",
            " Layer (type)                Output Shape              Param #   \n",
            "=================================================================\n",
            " conv2d (Conv2D)             (None, 30, 30, 32)        864       \n",
            "                                                                 \n",
            " max_pooling2d (MaxPooling2D  (None, 15, 15, 32)       0         \n",
            " )                                                               \n",
            "                                                                 \n",
            " batch_normalization (BatchN  (None, 15, 15, 32)       96        \n",
            " ormalization)                                                   \n",
            "                                                                 \n",
            " conv2d_1 (Conv2D)           (None, 13, 13, 64)        18432     \n",
            "                                                                 \n",
            " max_pooling2d_1 (MaxPooling  (None, 6, 6, 64)         0         \n",
            " 2D)                                                             \n",
            "                                                                 \n",
            " batch_normalization_1 (Batc  (None, 6, 6, 64)         192       \n",
            " hNormalization)                                                 \n",
            "                                                                 \n",
            " conv2d_2 (Conv2D)           (None, 4, 4, 64)          36864     \n",
            "                                                                 \n",
            " batch_normalization_2 (Batc  (None, 4, 4, 64)         192       \n",
            " hNormalization)                                                 \n",
            "                                                                 \n",
            " flatten (Flatten)           (None, 1024)              0         \n",
            "                                                                 \n",
            " dense (Dense)               (None, 64)                65536     \n",
            "                                                                 \n",
            " batch_normalization_3 (Batc  (None, 64)               192       \n",
            " hNormalization)                                                 \n",
            "                                                                 \n",
            " dense_1 (Dense)             (None, 10)                640       \n",
            "                                                                 \n",
            " batch_normalization_4 (Batc  (None, 10)               30        \n",
            " hNormalization)                                                 \n",
            "                                                                 \n",
            "=================================================================\n",
            "Total params: 123,038\n",
            "Trainable params: 122,570\n",
            "Non-trainable params: 468\n",
            "_________________________________________________________________\n"
          ]
        }
      ]
    },
    {
      "cell_type": "markdown",
      "source": [
        "## 4. Training and evaluation of the normal model\n",
        "\n",
        "To train the same model without binarization and quantization (i.e., using full precision for both weights and activations), we simply need to remove the QuantConv2D and QuantDense layers, replacing them with standard convolutional (Conv2D) and dense (Dense) layers from TensorFlow's Keras API."
      ],
      "metadata": {
        "id": "lrL4fzR1nXfM"
      }
    },
    {
      "cell_type": "code",
      "source": [
        "# Compile the model for normal training\n",
        "model_normal.compile(\n",
        "    optimizer='adam',                       # Adam optimizer\n",
        "    loss=\"sparse_categorical_crossentropy\", # Cross-entropy loss for classification\n",
        "    metrics=[\"accuracy\"]                    # Accuracy as the evaluation metric\n",
        ")\n",
        "\n",
        "# Train the model\n",
        "history_normal = model_normal.fit(\n",
        "    train_images, train_labels,\n",
        "    epochs=30,                        # Number of epochs\n",
        "    batch_size=64,                    # Batch size\n",
        "    validation_data=(test_images, test_labels)  # Use test data for validation\n",
        ")\n",
        "\n",
        "# Evaluate the model on the test dataset\n",
        "test_loss_normal, test_accuracy_normal = model_normal.evaluate(test_images, test_labels)\n",
        "\n",
        "print(f\"Test Accuracy (Normal): {test_accuracy_normal * 100:.2f}%\")\n",
        "print(f\"Test Loss(Normal): {test_loss_normal:.4f}\")"
      ],
      "metadata": {
        "id": "3tns10uNnezJ",
        "colab": {
          "base_uri": "https://localhost:8080/"
        },
        "outputId": "3d2e2ea0-cc33-495f-8dfc-eaee3fc9bf14"
      },
      "execution_count": null,
      "outputs": [
        {
          "output_type": "stream",
          "name": "stdout",
          "text": [
            "Epoch 1/6\n",
            "782/782 [==============================] - 93s 118ms/step - loss: 8.8113 - accuracy: 0.2115 - val_loss: 9.6470 - val_accuracy: 0.1948\n",
            "Epoch 2/6\n",
            "782/782 [==============================] - 88s 113ms/step - loss: 6.6200 - accuracy: 0.2494 - val_loss: 5.5584 - val_accuracy: 0.2569\n",
            "Epoch 3/6\n",
            "782/782 [==============================] - 88s 112ms/step - loss: 4.5820 - accuracy: 0.2764 - val_loss: 6.1632 - val_accuracy: 0.2571\n",
            "Epoch 4/6\n",
            "782/782 [==============================] - 90s 115ms/step - loss: 4.4196 - accuracy: 0.2476 - val_loss: 4.3557 - val_accuracy: 0.2185\n",
            "Epoch 5/6\n",
            "782/782 [==============================] - 90s 115ms/step - loss: 3.8961 - accuracy: 0.2241 - val_loss: 3.3525 - val_accuracy: 0.2322\n",
            "Epoch 6/6\n",
            "782/782 [==============================] - 87s 111ms/step - loss: 3.0147 - accuracy: 0.2509 - val_loss: 2.6015 - val_accuracy: 0.2701\n",
            "313/313 [==============================] - 5s 17ms/step - loss: 2.6015 - accuracy: 0.2701\n",
            "Test Accuracy (Normal): 27.01%\n",
            "Test Loss(Normal): 2.6015\n"
          ]
        }
      ]
    },
    {
      "cell_type": "markdown",
      "metadata": {
        "id": "Oewp-wYg31t9"
      },
      "source": [
        "## 5. Creation of a binarized model\n",
        "\n"
      ]
    },
    {
      "cell_type": "code",
      "source": [
        "import larq as lq\n",
        "import tensorflow as tf\n",
        "\n",
        "# Define default quantization options for all layers except the first layer\n",
        "kwargs = dict(\n",
        "    input_quantizer=\"ste_sign\",      # Quantizes activations using Sign-STE (binary quantization to -1 or +1)\n",
        "    kernel_quantizer=\"ste_sign\",     # Quantizes weights to binary values (-1 or +1) with Sign-STE\n",
        "    kernel_constraint=\"weight_clip\"  # Clips weights within a set range (typically -1 to +1) to stabilize training\n",
        ")\n",
        "\n",
        "# Initialize a Sequential model\n",
        "model = tf.keras.models.Sequential()\n",
        "\n",
        "# First layer: Quantized convolutional layer (only quantizing weights, not inputs)\n",
        "model.add(lq.layers.QuantConv2D(\n",
        "    32, (3, 3),                      # 32 filters of size 3x3\n",
        "    kernel_quantizer=\"ste_sign\",     # Quantize weights to -1 or +1\n",
        "    kernel_constraint=\"weight_clip\", # Restrict weights to a range for stability\n",
        "    use_bias=False,                  # Disable bias for simplicity\n",
        "    input_shape=(32, 32, 3)          # Input shape for CIFAR-10 (32x32 RGB images)\n",
        "))\n",
        "model.add(tf.keras.layers.MaxPooling2D((2, 2)))         # Downsample with max pooling\n",
        "model.add(tf.keras.layers.BatchNormalization(scale=False)) # Batch normalization to stabilize activations\n",
        "\n",
        "# Second quantized convolutional layer (quantizes both weights and activations)\n",
        "model.add(lq.layers.QuantConv2D(64, (3, 3), use_bias=False, **kwargs))\n",
        "model.add(tf.keras.layers.MaxPooling2D((2, 2)))         # Downsample again\n",
        "model.add(tf.keras.layers.BatchNormalization(scale=False))\n",
        "\n",
        "# Third quantized convolutional layer (also quantizes both weights and activations)\n",
        "model.add(lq.layers.QuantConv2D(64, (3, 3), use_bias=False, **kwargs))\n",
        "model.add(tf.keras.layers.BatchNormalization(scale=False))\n",
        "model.add(tf.keras.layers.Flatten())                    # Flatten the output for fully connected layers\n",
        "\n",
        "# Quantized dense (fully connected) layer with 64 units\n",
        "model.add(lq.layers.QuantDense(64, use_bias=False, **kwargs))\n",
        "model.add(tf.keras.layers.BatchNormalization(scale=False))\n",
        "\n",
        "# Final quantized dense layer for output (10 classes for CIFAR-10)\n",
        "model.add(lq.layers.QuantDense(10, use_bias=False, **kwargs))\n",
        "model.add(tf.keras.layers.BatchNormalization(scale=False))\n",
        "model.add(tf.keras.layers.Activation(\"softmax\"))        # Softmax activation for classification probabilities\n"
      ],
      "metadata": {
        "id": "_DfUm8dYACH3"
      },
      "execution_count": null,
      "outputs": []
    },
    {
      "cell_type": "code",
      "source": [
        "lq.models.summary(model)"
      ],
      "metadata": {
        "id": "bH9aNaTZAHo_",
        "outputId": "1c03d40a-a85e-48e3-803a-50145a225276",
        "colab": {
          "base_uri": "https://localhost:8080/"
        }
      },
      "execution_count": null,
      "outputs": [
        {
          "output_type": "stream",
          "name": "stdout",
          "text": [
            "+sequential_2 stats-----------------------------------------------------------------------------------------+\n",
            "| Layer                   Input prec.           Outputs  # 1-bit  # 32-bit  Memory  1-bit MACs  32-bit MACs |\n",
            "|                               (bit)                        x 1       x 1    (kB)                          |\n",
            "+-----------------------------------------------------------------------------------------------------------+\n",
            "| quant_conv2d                      -  (-1, 30, 30, 32)      864         0    0.11           0       777600 |\n",
            "| max_pooling2d_5                   -  (-1, 15, 15, 32)        0         0       0           0            0 |\n",
            "| batch_normalization_11            -  (-1, 15, 15, 32)        0        64    0.25           0            0 |\n",
            "| quant_conv2d_1                    1  (-1, 13, 13, 64)    18432         0    2.25     3115008            0 |\n",
            "| max_pooling2d_6                   -    (-1, 6, 6, 64)        0         0       0           0            0 |\n",
            "| batch_normalization_12            -    (-1, 6, 6, 64)        0       128    0.50           0            0 |\n",
            "| quant_conv2d_2                    1    (-1, 4, 4, 64)    36864         0    4.50      589824            0 |\n",
            "| batch_normalization_13            -    (-1, 4, 4, 64)        0       128    0.50           0            0 |\n",
            "| flatten_1                         -        (-1, 1024)        0         0       0           0            0 |\n",
            "| quant_dense                       1          (-1, 64)    65536         0    8.00       65536            0 |\n",
            "| batch_normalization_14            -          (-1, 64)        0       128    0.50           0            0 |\n",
            "| quant_dense_1                     1          (-1, 10)      640         0    0.08         640            0 |\n",
            "| batch_normalization_15            -          (-1, 10)        0        20    0.08           0            0 |\n",
            "| activation                        -          (-1, 10)        0         0       0           ?            ? |\n",
            "+-----------------------------------------------------------------------------------------------------------+\n",
            "| Total                                                   122336       468   16.76     3771008       777600 |\n",
            "+-----------------------------------------------------------------------------------------------------------+\n",
            "+sequential_2 summary--------------------------+\n",
            "| Total params                      123 k      |\n",
            "| Trainable params                  122 k      |\n",
            "| Non-trainable params              468        |\n",
            "| Model size                        16.76 KiB  |\n",
            "| Model size (8-bit FP weights)     15.39 KiB  |\n",
            "| Float-32 Equivalent               479.70 KiB |\n",
            "| Compression Ratio of Memory       0.03       |\n",
            "| Number of MACs                    4.55 M     |\n",
            "| Ratio of MACs that are binarized  0.8290     |\n",
            "+----------------------------------------------+\n"
          ]
        }
      ]
    },
    {
      "cell_type": "markdown",
      "metadata": {
        "id": "P3odqfHP4M67"
      },
      "source": [
        "## 6. Training and evaluation of the binarized model with QAT\n",
        "\n"
      ]
    },
    {
      "cell_type": "code",
      "execution_count": null,
      "metadata": {
        "id": "MdDzI75PUXrG",
        "outputId": "e664d648-552c-4b13-b6fb-729cf24e755f",
        "colab": {
          "base_uri": "https://localhost:8080/"
        }
      },
      "outputs": [
        {
          "output_type": "stream",
          "name": "stdout",
          "text": [
            "Epoch 1/6\n",
            "782/782 [==============================] - 102s 128ms/step - loss: 1.7224 - accuracy: 0.3928 - val_loss: 1.5249 - val_accuracy: 0.4834\n",
            "Epoch 2/6\n",
            "782/782 [==============================] - 93s 119ms/step - loss: 1.4977 - accuracy: 0.5020 - val_loss: 1.4691 - val_accuracy: 0.5096\n",
            "Epoch 3/6\n",
            "782/782 [==============================] - 94s 120ms/step - loss: 1.4236 - accuracy: 0.5334 - val_loss: 1.3921 - val_accuracy: 0.5471\n",
            "Epoch 4/6\n",
            "782/782 [==============================] - 93s 120ms/step - loss: 1.3771 - accuracy: 0.5545 - val_loss: 1.3606 - val_accuracy: 0.5647\n",
            "Epoch 5/6\n",
            "782/782 [==============================] - 92s 118ms/step - loss: 1.3419 - accuracy: 0.5697 - val_loss: 1.3529 - val_accuracy: 0.5617\n",
            "Epoch 6/6\n",
            "782/782 [==============================] - 96s 123ms/step - loss: 1.3078 - accuracy: 0.5818 - val_loss: 1.2977 - val_accuracy: 0.5816\n",
            "313/313 [==============================] - 7s 21ms/step - loss: 1.2977 - accuracy: 0.5816\n",
            "Test Accuracy: 58.16%\n",
            "Test Loss: 1.2977\n"
          ]
        }
      ],
      "source": [
        "# Compile the model with an optimizer and loss function\n",
        "model.compile(\n",
        "    optimizer='adam',                      # Adam optimizer is often effective for training binarized networks\n",
        "    loss=\"sparse_categorical_crossentropy\",# Cross-entropy loss for classification\n",
        "    metrics=[\"accuracy\"]                   # Accuracy as the evaluation metric\n",
        ")\n",
        "\n",
        "# Train the model where QAT takes place as the model learns to optimize quantized weights and activations.\n",
        "history = model.fit(\n",
        "    train_images, train_labels,\n",
        "    epochs=30,                           # Number of training epochs\n",
        "    batch_size=64,                      # Batch size for training\n",
        "    validation_data=(test_images, test_labels) # Evaluate on test set after each epoch\n",
        ")\n",
        "\n",
        "# Evaluate the model on the test dataset\n",
        "test_loss, test_accuracy = model.evaluate(test_images, test_labels)\n",
        "\n",
        "print(f\"Test Accuracy: {test_accuracy * 100:.2f}%\")\n",
        "print(f\"Test Loss: {test_loss:.4f}\")"
      ]
    },
    {
      "cell_type": "code",
      "source": [
        "import matplotlib.pyplot as plt\n",
        "\n",
        "# Plot training & validation accuracy values for both models\n",
        "plt.figure(figsize=(12, 5))\n",
        "\n",
        "# Accuracy plot\n",
        "plt.subplot(1, 2, 1)\n",
        "plt.plot(history.history['accuracy'], label='Train Accuracy (Binarized)')\n",
        "plt.plot(history.history['val_accuracy'], label='Validation Accuracy (Binarized)')\n",
        "plt.plot(history_normal.history['accuracy'], label='Train Accuracy (Normal)')\n",
        "plt.plot(history_normal.history['val_accuracy'], label='Validation Accuracy (Normal)')\n",
        "plt.title('Model Accuracy Comparison')\n",
        "plt.xlabel('Epoch')\n",
        "plt.ylabel('Accuracy')\n",
        "plt.legend(loc='lower right')\n",
        "\n",
        "# Loss plot\n",
        "plt.subplot(1, 2, 2)\n",
        "plt.plot(history.history['loss'], label='Train Loss (Binarized)')\n",
        "plt.plot(history.history['val_loss'], label='Validation Loss (Binarized)')\n",
        "plt.plot(history_normal.history['loss'], label='Train Loss (Normal)')\n",
        "plt.plot(history_normal.history['val_loss'], label='Validation Loss (Normal)')\n",
        "plt.title('Model Loss Comparison')\n",
        "plt.xlabel('Epoch')\n",
        "plt.ylabel('Loss')\n",
        "plt.legend(loc='upper right')\n",
        "\n",
        "plt.tight_layout()\n",
        "plt.show()\n"
      ],
      "metadata": {
        "id": "cXdkJ5d2oCp1",
        "outputId": "3586a699-dbcd-4786-d344-403fccb52e48",
        "colab": {
          "base_uri": "https://localhost:8080/",
          "height": 359
        }
      },
      "execution_count": null,
      "outputs": [
        {
          "output_type": "display_data",
          "data": {
            "text/plain": [
              "<Figure size 1200x500 with 2 Axes>"
            ],
            "image/png": "[encoded data removed]"
          },
          "metadata": {}
        }
      ]
    },
    {
      "cell_type": "markdown",
      "source": [
        "## 7. Compare models\n",
        "\n",
        "###**A. SIZE**\n",
        "\n",
        "We can evaluate how much memory each model takes up, specifically looking at the number of parameters (weights) in each model. The size of the model can be directly related to the total number of parameters, since each parameter is a floating-point value and requires memory for storage."
      ],
      "metadata": {
        "id": "7jE4e_Xhyv5k"
      }
    },
    {
      "cell_type": "code",
      "source": [
        "# Print summary of both models to compare parameters\n",
        "print(\"\\nBinarized Model Summary:\")\n",
        "model.summary()\n",
        "\n",
        "print(\"Normal Model Summary:\")\n",
        "model_normal.summary()"
      ],
      "metadata": {
        "id": "rF4SPUc8zOi-",
        "outputId": "a5267aba-c5c7-4457-bcfb-897cf465dbac",
        "colab": {
          "base_uri": "https://localhost:8080/"
        }
      },
      "execution_count": null,
      "outputs": [
        {
          "output_type": "stream",
          "name": "stdout",
          "text": [
            "\n",
            "Binarized Model Summary:\n",
            "Model: \"sequential_2\"\n",
            "_________________________________________________________________\n",
            " Layer (type)                Output Shape              Param #   \n",
            "=================================================================\n",
            " quant_conv2d (QuantConv2D)  (None, 30, 30, 32)        864       \n",
            "                                                                 \n",
            " max_pooling2d_5 (MaxPooling  (None, 15, 15, 32)       0         \n",
            " 2D)                                                             \n",
            "                                                                 \n",
            " batch_normalization_11 (Bat  (None, 15, 15, 32)       96        \n",
            " chNormalization)                                                \n",
            "                                                                 \n",
            " quant_conv2d_1 (QuantConv2D  (None, 13, 13, 64)       18432     \n",
            " )                                                               \n",
            "                                                                 \n",
            " max_pooling2d_6 (MaxPooling  (None, 6, 6, 64)         0         \n",
            " 2D)                                                             \n",
            "                                                                 \n",
            " batch_normalization_12 (Bat  (None, 6, 6, 64)         192       \n",
            " chNormalization)                                                \n",
            "                                                                 \n",
            " quant_conv2d_2 (QuantConv2D  (None, 4, 4, 64)         36864     \n",
            " )                                                               \n",
            "                                                                 \n",
            " batch_normalization_13 (Bat  (None, 4, 4, 64)         192       \n",
            " chNormalization)                                                \n",
            "                                                                 \n",
            " flatten_1 (Flatten)         (None, 1024)              0         \n",
            "                                                                 \n",
            " quant_dense (QuantDense)    (None, 64)                65536     \n",
            "                                                                 \n",
            " batch_normalization_14 (Bat  (None, 64)               192       \n",
            " chNormalization)                                                \n",
            "                                                                 \n",
            " quant_dense_1 (QuantDense)  (None, 10)                640       \n",
            "                                                                 \n",
            " batch_normalization_15 (Bat  (None, 10)               30        \n",
            " chNormalization)                                                \n",
            "                                                                 \n",
            " activation (Activation)     (None, 10)                0         \n",
            "                                                                 \n",
            "=================================================================\n",
            "Total params: 123,038\n",
            "Trainable params: 122,570\n",
            "Non-trainable params: 468\n",
            "_________________________________________________________________\n",
            "Normal Model Summary:\n",
            "Model: \"sequential_3\"\n",
            "_________________________________________________________________\n",
            " Layer (type)                Output Shape              Param #   \n",
            "=================================================================\n",
            " conv2d_7 (Conv2D)           (None, 30, 30, 32)        864       \n",
            "                                                                 \n",
            " max_pooling2d_7 (MaxPooling  (None, 15, 15, 32)       0         \n",
            " 2D)                                                             \n",
            "                                                                 \n",
            " batch_normalization_16 (Bat  (None, 15, 15, 32)       96        \n",
            " chNormalization)                                                \n",
            "                                                                 \n",
            " conv2d_8 (Conv2D)           (None, 13, 13, 64)        18432     \n",
            "                                                                 \n",
            " max_pooling2d_8 (MaxPooling  (None, 6, 6, 64)         0         \n",
            " 2D)                                                             \n",
            "                                                                 \n",
            " batch_normalization_17 (Bat  (None, 6, 6, 64)         192       \n",
            " chNormalization)                                                \n",
            "                                                                 \n",
            " conv2d_9 (Conv2D)           (None, 4, 4, 64)          36864     \n",
            "                                                                 \n",
            " batch_normalization_18 (Bat  (None, 4, 4, 64)         192       \n",
            " chNormalization)                                                \n",
            "                                                                 \n",
            " flatten_2 (Flatten)         (None, 1024)              0         \n",
            "                                                                 \n",
            " dense_4 (Dense)             (None, 64)                65536     \n",
            "                                                                 \n",
            " batch_normalization_19 (Bat  (None, 64)               192       \n",
            " chNormalization)                                                \n",
            "                                                                 \n",
            " dense_5 (Dense)             (None, 10)                640       \n",
            "                                                                 \n",
            " batch_normalization_20 (Bat  (None, 10)               30        \n",
            " chNormalization)                                                \n",
            "                                                                 \n",
            "=================================================================\n",
            "Total params: 123,038\n",
            "Trainable params: 122,570\n",
            "Non-trainable params: 468\n",
            "_________________________________________________________________\n"
          ]
        }
      ]
    },
    {
      "cell_type": "code",
      "source": [
        "\n",
        "# Calculate the model size in bytes\n",
        "def calculate_model_size(model, is_binarized=False):\n",
        "    total_params = model.count_params()\n",
        "\n",
        "    if is_binarized:\n",
        "        # Binarized model parameters are stored in 1 byte per parameter\n",
        "        return total_params  # 1 byte per parameter for binarized model\n",
        "    else:\n",
        "        # Normal model parameters are stored in 4 bytes per parameter (32-bit floating point)\n",
        "        return total_params * 4  # 4 bytes per parameter for normal model\n",
        "\n",
        "# Get the sizes of both models\n",
        "normal_model_size = calculate_model_size(model_normal, is_binarized=False)\n",
        "binarized_model_size = calculate_model_size(model, is_binarized=True)\n",
        "\n",
        "# Print the model sizes in MB\n",
        "print(f\"Normal Model Size: {normal_model_size / (1024**2):.2f} MB\")\n",
        "print(f\"Binarized Model Size: {binarized_model_size / (1024**2):.2f} MB\")\n"
      ],
      "metadata": {
        "id": "uJMrez8fz-3Q",
        "outputId": "a74806bd-a154-4005-d4e3-25ef825af8f8",
        "colab": {
          "base_uri": "https://localhost:8080/"
        }
      },
      "execution_count": null,
      "outputs": [
        {
          "output_type": "stream",
          "name": "stdout",
          "text": [
            "Normal Model Size: 0.47 MB\n",
            "Binarized Model Size: 0.12 MB\n"
          ]
        }
      ]
    },
    {
      "cell_type": "code",
      "source": [
        "# Save both models to disk\n",
        "model.save(\"binarized_model.h5\")\n",
        "model_normal.save(\"normal_model.h5\")\n",
        "\n",
        "# Compare file sizes\n",
        "import os\n",
        "\n",
        "binarized_model_size = os.path.getsize(\"binarized_model.h5\") / (1024**2)\n",
        "normal_model_size = os.path.getsize(\"normal_model.h5\") / (1024**2)  # Size in MB\n",
        "\n",
        "\n",
        "print(f\"Normal Model File Size: {normal_model_size:.2f} MB\")\n",
        "print(f\"Binarized Model File Size: {binarized_model_size:.2f} MB\")"
      ],
      "metadata": {
        "id": "ZcMz7qzZ0TuH",
        "outputId": "e6be817f-07fe-4fa0-98c5-f86c92f7e83e",
        "colab": {
          "base_uri": "https://localhost:8080/"
        }
      },
      "execution_count": null,
      "outputs": [
        {
          "output_type": "stream",
          "name": "stdout",
          "text": [
            "Normal Model File Size: 1.48 MB\n",
            "Binarized Model File Size: 1.48 MB\n"
          ]
        }
      ]
    },
    {
      "cell_type": "code",
      "source": [
        "import time\n",
        "\n",
        "# Function to measure inference time\n",
        "def measure_inference_time(model, test_images):\n",
        "    start_time = time.time()\n",
        "    predictions = model.predict(test_images)\n",
        "    end_time = time.time()\n",
        "\n",
        "    inference_time = end_time - start_time  # Time taken in seconds\n",
        "    return inference_time\n",
        "\n",
        "# Choose a batch of 100 test samples for inference time\n",
        "batch_size = 100\n",
        "test_batch = test_images[:batch_size]\n",
        "\n",
        "# Measure inference time for both models\n",
        "inference_time_normal = measure_inference_time(model_normal, test_batch)\n",
        "inference_time_binarized = measure_inference_time(model, test_batch)\n",
        "\n",
        "print(f\"Inference Time (Normal Model): {inference_time_normal:.4f} seconds\")\n",
        "print(f\"Inference Time (Binarized Model): {inference_time_binarized:.4f} seconds\")"
      ],
      "metadata": {
        "id": "al5-N2Nk2BuL",
        "outputId": "8a674c5a-b358-46ca-b8d0-1550b65514ec",
        "colab": {
          "base_uri": "https://localhost:8080/"
        }
      },
      "execution_count": null,
      "outputs": [
        {
          "output_type": "stream",
          "name": "stdout",
          "text": [
            "4/4 [==============================] - 0s 11ms/step\n",
            "4/4 [==============================] - 0s 13ms/step\n",
            "Inference Time (Normal Model): 0.1411 seconds\n",
            "Inference Time (Binarized Model): 0.1336 seconds\n"
          ]
        }
      ]
    },
    {
      "cell_type": "code",
      "source": [
        "# Function to measure throughput (images per second)\n",
        "def measure_throughput(model, test_images, batch_size=10000):\n",
        "    start_time = time.time()\n",
        "    model.predict(test_images[:batch_size])  # Make prediction on a batch\n",
        "    end_time = time.time()\n",
        "\n",
        "    time_taken = end_time - start_time\n",
        "    throughput = batch_size / time_taken  # Images per second\n",
        "    return throughput\n",
        "\n",
        "# Measure throughput for both models\n",
        "throughput_normal = measure_throughput(model_normal, test_images, batch_size)\n",
        "throughput_binarized = measure_throughput(model, test_images, batch_size)\n",
        "\n",
        "print(f\"Throughput (Normal Model): {throughput_normal:.2f} images per second\")\n",
        "print(f\"Throughput (Binarized Model): {throughput_binarized:.2f} images per second\")"
      ],
      "metadata": {
        "id": "H6C4dWCF24bw",
        "outputId": "e2adce64-d9b0-43c4-f706-d18af957d55c",
        "colab": {
          "base_uri": "https://localhost:8080/"
        }
      },
      "execution_count": null,
      "outputs": [
        {
          "output_type": "stream",
          "name": "stdout",
          "text": [
            "4/4 [==============================] - 0s 23ms/step\n",
            "4/4 [==============================] - 0s 34ms/step\n",
            "Throughput (Normal Model): 448.39 images per second\n",
            "Throughput (Binarized Model): 239.73 images per second\n"
          ]
        }
      ]
    },
    {
      "cell_type": "code",
      "source": [
        "# Evaluate the accuracy of both models\n",
        "test_loss_normal, test_accuracy_normal = model_normal.evaluate(test_images, test_labels)\n",
        "test_loss_binarized, test_accuracy_binarized = model.evaluate(test_images, test_labels)\n",
        "\n",
        "print(f\"Test Accuracy (Normal Model): {test_accuracy_normal * 100:.2f}%\")\n",
        "print(f\"Test Accuracy (Binarized Model): {test_accuracy_binarized * 100:.2f}%\")"
      ],
      "metadata": {
        "id": "lpH4IX403e0v",
        "outputId": "8572b2c7-2509-4371-c16c-a33012464442",
        "colab": {
          "base_uri": "https://localhost:8080/"
        }
      },
      "execution_count": null,
      "outputs": [
        {
          "output_type": "stream",
          "name": "stdout",
          "text": [
            "313/313 [==============================] - 5s 16ms/step - loss: 2.6015 - accuracy: 0.2701\n",
            "313/313 [==============================] - 7s 23ms/step - loss: 1.2977 - accuracy: 0.5816\n",
            "Test Accuracy (Normal Model): 27.01%\n",
            "Test Accuracy (Binarized Model): 58.16%\n"
          ]
        }
      ]
    },
    {
      "cell_type": "code",
      "source": [
        "import psutil\n",
        "import os\n",
        "\n",
        "# Function to get current memory usage\n",
        "def get_memory_usage():\n",
        "    process = psutil.Process(os.getpid())\n",
        "    return process.memory_info().rss / (1024 ** 2)  # Memory in MB\n",
        "\n",
        "# Measure memory usage during inference for both models\n",
        "memory_usage_normal_start = get_memory_usage()\n",
        "model_normal.predict(test_batch)  # Inference on the normal model\n",
        "memory_usage_normal_end = get_memory_usage()\n",
        "\n",
        "memory_usage_binarized_start = get_memory_usage()\n",
        "model.predict(test_batch)  # Inference on the binarized model\n",
        "memory_usage_binarized_end = get_memory_usage()\n",
        "\n",
        "print(f\"Memory Usage (Normal Model): {memory_usage_normal_end - memory_usage_normal_start:.2f} MB\")\n",
        "print(f\"Memory Usage (Binarized Model): {memory_usage_binarized_end - memory_usage_binarized_start:.2f} MB\")"
      ],
      "metadata": {
        "id": "MomWvnsv30g8",
        "outputId": "4c24bea0-e855-4189-ed03-fb180478f47c",
        "colab": {
          "base_uri": "https://localhost:8080/"
        }
      },
      "execution_count": null,
      "outputs": [
        {
          "output_type": "stream",
          "name": "stdout",
          "text": [
            "4/4 [==============================] - 0s 21ms/step\n",
            "4/4 [==============================] - 0s 26ms/step\n",
            "Memory Usage (Normal Model): 0.00 MB\n",
            "Memory Usage (Binarized Model): 0.00 MB\n"
          ]
        }
      ]
    },
    {
      "cell_type": "code",
      "source": [
        "import psutil\n",
        "import os\n",
        "\n",
        "# Function to get current memory usage\n",
        "def get_memory_usage():\n",
        "    process = psutil.Process(os.getpid())\n",
        "    return process.memory_info().rss / (1024 ** 2)  # Memory in MB\n",
        "\n",
        "# Measure memory usage during inference for both models\n",
        "memory_usage_normal_start = get_memory_usage()\n",
        "model_normal.predict(test_batch)  # Inference on the normal model\n",
        "memory_usage_normal_end = get_memory_usage()\n",
        "\n",
        "memory_usage_binarized_start = get_memory_usage()\n",
        "model.predict(test_batch)  # Inference on the binarized model\n",
        "memory_usage_binarized_end = get_memory_usage()\n",
        "\n",
        "print(f\"Memory Usage (Normal Model): {memory_usage_normal_end - memory_usage_normal_start:.2f} MB\")\n",
        "print(f\"Memory Usage (Binarized Model): {memory_usage_binarized_end - memory_usage_binarized_start:.2f} MB\")"
      ],
      "metadata": {
        "id": "oJddE8osFnOh",
        "outputId": "d012f926-b66b-403c-a922-f4b79553105d",
        "colab": {
          "base_uri": "https://localhost:8080/"
        }
      },
      "execution_count": null,
      "outputs": [
        {
          "output_type": "stream",
          "name": "stdout",
          "text": [
            "4/4 [==============================] - 0s 36ms/step\n",
            "4/4 [==============================] - 0s 31ms/step\n",
            "Memory Usage (Normal Model): 0.38 MB\n",
            "Memory Usage (Binarized Model): 0.00 MB\n"
          ]
        }
      ]
    }
  ]
}