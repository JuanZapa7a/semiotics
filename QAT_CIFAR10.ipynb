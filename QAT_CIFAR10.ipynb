{
  "nbformat": 4,
  "nbformat_minor": 0,
  "metadata": {
    "colab": {
      "provenance": [],
      "authorship_tag": "ABX9TyP1vZbemqcwBNM2MhZ9v6Tf",
      "include_colab_link": true
    },
    "kernelspec": {
      "name": "python3",
      "display_name": "Python 3"
    },
    "language_info": {
      "name": "python"
    }
  },
  "cells": [
    {
      "cell_type": "markdown",
      "metadata": {
        "id": "view-in-github",
        "colab_type": "text"
      },
      "source": [
        "<a href=\"https://colab.research.google.com/github/JuanZapa7a/semiotics/blob/main/QAT_CIFAR10.ipynb\" target=\"_parent\"><img src=\"https://colab.research.google.com/assets/colab-badge.svg\" alt=\"Open In Colab\"/></a>"
      ]
    },
    {
      "cell_type": "markdown",
      "metadata": {
        "id": "SsenkQwcgV6H"
      },
      "source": [
        "# Quantization Aware Training (QAT) using Larq for binarized quantization with the CIFAR10 dataset\n",
        "\n",
        "\n",
        "\n"
      ]
    },
    {
      "cell_type": "markdown",
      "source": [
        "## 1. Installation of Larq and necessary dependencies"
      ],
      "metadata": {
        "id": "op030X-yW5Pv"
      }
    },
    {
      "cell_type": "code",
      "execution_count": null,
      "metadata": {
        "id": "iAve6DCL4JH4",
        "colab": {
          "base_uri": "https://localhost:8080/"
        },
        "outputId": "9446c45f-1697-4bfd-f333-be84395d66d3"
      },
      "outputs": [
        {
          "output_type": "stream",
          "name": "stdout",
          "text": [
            "\u001b[2K   \u001b[90m━━━━━━━━━━━━━━━━━━━━━━━━━━━━━━━━━━━━━━━━\u001b[0m \u001b[32m578.0/578.0 MB\u001b[0m \u001b[31m2.6 MB/s\u001b[0m eta \u001b[36m0:00:00\u001b[0m\n",
            "\u001b[2K   \u001b[90m━━━━━━━━━━━━━━━━━━━━━━━━━━━━━━━━━━━━━━━━\u001b[0m \u001b[32m1.7/1.7 MB\u001b[0m \u001b[31m44.1 MB/s\u001b[0m eta \u001b[36m0:00:00\u001b[0m\n",
            "\u001b[2K   \u001b[90m━━━━━━━━━━━━━━━━━━━━━━━━━━━━━━━━━━━━━━━━\u001b[0m \u001b[32m42.6/42.6 kB\u001b[0m \u001b[31m2.2 MB/s\u001b[0m eta \u001b[36m0:00:00\u001b[0m\n",
            "\u001b[2K   \u001b[90m━━━━━━━━━━━━━━━━━━━━━━━━━━━━━━━━━━━━━━━━\u001b[0m \u001b[32m1.1/1.1 MB\u001b[0m \u001b[31m30.7 MB/s\u001b[0m eta \u001b[36m0:00:00\u001b[0m\n",
            "\u001b[2K   \u001b[90m━━━━━━━━━━━━━━━━━━━━━━━━━━━━━━━━━━━━━━━━\u001b[0m \u001b[32m5.9/5.9 MB\u001b[0m \u001b[31m61.7 MB/s\u001b[0m eta \u001b[36m0:00:00\u001b[0m\n",
            "\u001b[2K   \u001b[90m━━━━━━━━━━━━━━━━━━━━━━━━━━━━━━━━━━━━━━━━\u001b[0m \u001b[32m438.7/438.7 kB\u001b[0m \u001b[31m20.0 MB/s\u001b[0m eta \u001b[36m0:00:00\u001b[0m\n",
            "\u001b[2K   \u001b[90m━━━━━━━━━━━━━━━━━━━━━━━━━━━━━━━━━━━━━━━━\u001b[0m \u001b[32m4.9/4.9 MB\u001b[0m \u001b[31m66.3 MB/s\u001b[0m eta \u001b[36m0:00:00\u001b[0m\n",
            "\u001b[2K   \u001b[90m━━━━━━━━━━━━━━━━━━━━━━━━━━━━━━━━━━━━━━━━\u001b[0m \u001b[32m781.3/781.3 kB\u001b[0m \u001b[31m31.6 MB/s\u001b[0m eta \u001b[36m0:00:00\u001b[0m\n",
            "\u001b[?25h\u001b[31mERROR: pip's dependency resolver does not currently take into account all the packages that are installed. This behaviour is the source of the following dependency conflicts.\n",
            "google-ai-generativelanguage 0.6.10 requires protobuf!=4.21.0,!=4.21.1,!=4.21.2,!=4.21.3,!=4.21.4,!=4.21.5,<6.0.0dev,>=3.20.2, but you have protobuf 3.19.6 which is incompatible.\n",
            "google-cloud-aiplatform 1.71.1 requires protobuf!=4.21.0,!=4.21.1,!=4.21.2,!=4.21.3,!=4.21.4,!=4.21.5,<6.0.0dev,>=3.20.2, but you have protobuf 3.19.6 which is incompatible.\n",
            "google-cloud-bigquery-connection 1.16.1 requires protobuf!=4.21.0,!=4.21.1,!=4.21.2,!=4.21.3,!=4.21.4,!=4.21.5,<6.0.0dev,>=3.20.2, but you have protobuf 3.19.6 which is incompatible.\n",
            "google-cloud-bigquery-storage 2.27.0 requires protobuf!=3.20.0,!=3.20.1,!=4.21.0,!=4.21.1,!=4.21.2,!=4.21.3,!=4.21.4,!=4.21.5,<6.0.0dev,>=3.20.2, but you have protobuf 3.19.6 which is incompatible.\n",
            "google-cloud-bigtable 2.26.0 requires protobuf!=4.21.0,!=4.21.1,!=4.21.2,!=4.21.3,!=4.21.4,!=4.21.5,<6.0.0dev,>=3.20.2, but you have protobuf 3.19.6 which is incompatible.\n",
            "google-cloud-datastore 2.20.1 requires protobuf!=3.20.0,!=3.20.1,!=4.21.0,!=4.21.1,!=4.21.2,!=4.21.3,!=4.21.4,!=4.21.5,<6.0.0dev,>=3.20.2, but you have protobuf 3.19.6 which is incompatible.\n",
            "google-cloud-firestore 2.19.0 requires protobuf!=3.20.0,!=3.20.1,!=4.21.0,!=4.21.1,!=4.21.2,!=4.21.3,!=4.21.4,!=4.21.5,<6.0.0dev,>=3.20.2, but you have protobuf 3.19.6 which is incompatible.\n",
            "google-cloud-functions 1.18.0 requires protobuf!=4.21.0,!=4.21.1,!=4.21.2,!=4.21.3,!=4.21.4,!=4.21.5,<6.0.0dev,>=3.20.2, but you have protobuf 3.19.6 which is incompatible.\n",
            "google-cloud-iam 2.16.0 requires protobuf!=4.21.0,!=4.21.1,!=4.21.2,!=4.21.3,!=4.21.4,!=4.21.5,<6.0.0dev,>=3.20.2, but you have protobuf 3.19.6 which is incompatible.\n",
            "google-cloud-language 2.15.0 requires protobuf!=4.21.0,!=4.21.1,!=4.21.2,!=4.21.3,!=4.21.4,!=4.21.5,<6.0.0dev,>=3.20.2, but you have protobuf 3.19.6 which is incompatible.\n",
            "google-cloud-pubsub 2.26.1 requires protobuf!=4.21.0,!=4.21.1,!=4.21.2,!=4.21.3,!=4.21.4,!=4.21.5,<6.0.0dev,>=3.20.2, but you have protobuf 3.19.6 which is incompatible.\n",
            "google-cloud-resource-manager 1.13.0 requires protobuf!=4.21.0,!=4.21.1,!=4.21.2,!=4.21.3,!=4.21.4,!=4.21.5,<6.0.0dev,>=3.20.2, but you have protobuf 3.19.6 which is incompatible.\n",
            "google-cloud-translate 3.17.0 requires protobuf!=4.21.0,!=4.21.1,!=4.21.2,!=4.21.3,!=4.21.4,!=4.21.5,<6.0.0dev,>=3.20.2, but you have protobuf 3.19.6 which is incompatible.\n",
            "googleapis-common-protos 1.65.0 requires protobuf!=3.20.0,!=3.20.1,!=4.21.1,!=4.21.2,!=4.21.3,!=4.21.4,!=4.21.5,<6.0.0.dev0,>=3.20.2, but you have protobuf 3.19.6 which is incompatible.\n",
            "grpc-google-iam-v1 0.13.1 requires protobuf!=4.21.1,!=4.21.2,!=4.21.3,!=4.21.4,!=4.21.5,<6.0.0dev,>=3.20.2, but you have protobuf 3.19.6 which is incompatible.\n",
            "grpcio-status 1.62.3 requires protobuf>=4.21.6, but you have protobuf 3.19.6 which is incompatible.\n",
            "pandas-gbq 0.24.0 requires google-auth-oauthlib>=0.7.0, but you have google-auth-oauthlib 0.4.6 which is incompatible.\n",
            "tensorflow-datasets 4.9.7 requires protobuf>=3.20, but you have protobuf 3.19.6 which is incompatible.\n",
            "tensorflow-metadata 1.13.1 requires protobuf<5,>=3.20.3, but you have protobuf 3.19.6 which is incompatible.\n",
            "tf-keras 2.17.0 requires tensorflow<2.18,>=2.17, but you have tensorflow 2.10.0 which is incompatible.\u001b[0m\u001b[31m\n",
            "\u001b[2K   \u001b[90m━━━━━━━━━━━━━━━━━━━━━━━━━━━━━━━━━━━━━━━━\u001b[0m \u001b[32m65.5/65.5 kB\u001b[0m \u001b[31m1.8 MB/s\u001b[0m eta \u001b[36m0:00:00\u001b[0m\n",
            "\u001b[?25h"
          ]
        }
      ],
      "source": [
        "!pip -q install tensorflow==2.10.0\n",
        "!pip -q install larq==0.13.1\n",
        "\n",
        "import tensorflow as tf\n",
        "import larq as lq"
      ]
    },
    {
      "cell_type": "markdown",
      "metadata": {
        "id": "jRFxccghyMVo"
      },
      "source": [
        "## 2. Data preparation (CIFAR10)\n",
        "\n",
        "Download and prepare the CIFAR10 dataset.\n",
        "CIFAR-10 contains images of size $32 \\times 32 \\times 3$, includes 10 classes and already comes with 3 colour channels (RGB).\n",
        "\n",
        "The code will display the dimensions of the images and labels:\n",
        "- **Training images:** `(50000, 32, 32, 3)`\n",
        "- **Training labels:** `(50000, 1)`\n",
        "- **Test images:** `(10000, 32, 32, 3)`\n",
        "- **Test labels:** `(10000, 1)`\n"
      ]
    },
    {
      "cell_type": "code",
      "source": [
        "import tensorflow as tf\n",
        "\n",
        "# Load the CIFAR-10 dataset\n",
        "(train_images, train_labels), (test_images, test_labels) = tf.keras.datasets.cifar10.load_data()\n",
        "\n",
        "# Check the original dimensions of CIFAR-10\n",
        "# Should be (50000, 32, 32, 3) for train_images and (10000, 32, 32, 3) for test_images\n",
        "print(\"Original dimensions:\")\n",
        "print(\"Train images:\", train_images.shape)\n",
        "print(\"Test images:\", test_images.shape)\n",
        "\n",
        "# Normalize the images to the range [-1, 1]\n",
        "train_images, test_images = train_images / 127.5 - 1, test_images / 127.5 - 1\n",
        "\n",
        "# Check dimensions after normalization\n",
        "print(\"Dimensions after normalization:\")\n",
        "print(\"Train images:\", train_images.shape, \"Train labels:\", train_labels.shape)\n",
        "print(\"Test images:\", test_images.shape, \"Test labels:\", test_labels.shape)\n",
        "\n"
      ],
      "metadata": {
        "id": "cwd9EyaW279M",
        "outputId": "c5d44b71-3c51-4204-ded8-02af650fafb5",
        "colab": {
          "base_uri": "https://localhost:8080/"
        }
      },
      "execution_count": null,
      "outputs": [
        {
          "output_type": "stream",
          "name": "stdout",
          "text": [
            "Downloading data from https://www.cs.toronto.edu/~kriz/cifar-10-python.tar.gz\n",
            "170498071/170498071 [==============================] - 3s 0us/step\n",
            "Original dimensions:\n",
            "Train images: (50000, 32, 32, 3)\n",
            "Test images: (10000, 32, 32, 3)\n",
            "Dimensions after normalization:\n",
            "Train images: (50000, 32, 32, 3) Train labels: (50000, 1)\n",
            "Test images: (10000, 32, 32, 3) Test labels: (10000, 1)\n"
          ]
        }
      ]
    },
    {
      "cell_type": "markdown",
      "source": [
        "## 3. Creation of a base model.\n",
        "\n",
        "To train the same model without binarization and quantization (i.e., using full precision for both weights and activations), we simply need to remove the QuantConv2D and QuantDense layers, replacing them with standard convolutional (Conv2D) and dense (Dense) layers from TensorFlow's Keras API."
      ],
      "metadata": {
        "id": "HL1KjCFYm1vv"
      }
    },
    {
      "cell_type": "code",
      "source": [
        "import tensorflow as tf\n",
        "\n",
        "# Define the standard (non-binarized) model architecture\n",
        "model_normal = tf.keras.models.Sequential()\n",
        "\n",
        "# First layer: Standard convolutional layer (no quantization)\n",
        "model_normal.add(tf.keras.layers.Conv2D(\n",
        "    32, (3, 3),                        # 32 filters of size 3x3\n",
        "    activation=\"relu\",                 # Use ReLU activation instead of binary\n",
        "    use_bias=False,                    # No bias for simplicity\n",
        "    input_shape=(32, 32, 3)            # Input shape for CIFAR-10\n",
        "))\n",
        "model_normal.add(tf.keras.layers.MaxPooling2D((2, 2)))    # Max pooling for downsampling\n",
        "model_normal.add(tf.keras.layers.BatchNormalization(scale=False)) # Batch normalization\n",
        "\n",
        "# Second standard convolutional layer\n",
        "model_normal.add(tf.keras.layers.Conv2D(\n",
        "    64, (3, 3),\n",
        "    activation=\"relu\",\n",
        "    use_bias=False,\n",
        "))\n",
        "model_normal.add(tf.keras.layers.MaxPooling2D((2, 2)))     # Max pooling\n",
        "model_normal.add(tf.keras.layers.BatchNormalization(scale=False))\n",
        "\n",
        "# Third standard convolutional layer\n",
        "model_normal.add(tf.keras.layers.Conv2D(\n",
        "    64, (3, 3),\n",
        "    activation=\"relu\",\n",
        "    use_bias=False,\n",
        "))\n",
        "model_normal.add(tf.keras.layers.BatchNormalization(scale=False))\n",
        "model_normal.add(tf.keras.layers.Flatten())                # Flatten the output for the dense layers\n",
        "\n",
        "# Fully connected (dense) layer with 64 units\n",
        "model_normal.add(tf.keras.layers.Dense(64, activation=\"relu\", use_bias=False))\n",
        "model_normal.add(tf.keras.layers.BatchNormalization(scale=False))\n",
        "\n",
        "# Output layer for classification (10 classes for CIFAR-10)\n",
        "model_normal.add(tf.keras.layers.Dense(10, activation=\"softmax\", use_bias=False))\n",
        "model_normal.add(tf.keras.layers.BatchNormalization(scale=False))\n"
      ],
      "metadata": {
        "id": "bx7GOuZ14mzH"
      },
      "execution_count": null,
      "outputs": []
    },
    {
      "cell_type": "code",
      "source": [
        "model_normal.summary()"
      ],
      "metadata": {
        "id": "3qsl5mxp4snK",
        "outputId": "416b318b-d87f-485c-8b79-a52ac0fe0dce",
        "colab": {
          "base_uri": "https://localhost:8080/"
        }
      },
      "execution_count": null,
      "outputs": [
        {
          "output_type": "stream",
          "name": "stdout",
          "text": [
            "Model: \"sequential\"\n",
            "_________________________________________________________________\n",
            " Layer (type)                Output Shape              Param #   \n",
            "=================================================================\n",
            " conv2d (Conv2D)             (None, 30, 30, 32)        864       \n",
            "                                                                 \n",
            " max_pooling2d (MaxPooling2D  (None, 15, 15, 32)       0         \n",
            " )                                                               \n",
            "                                                                 \n",
            " batch_normalization (BatchN  (None, 15, 15, 32)       96        \n",
            " ormalization)                                                   \n",
            "                                                                 \n",
            " conv2d_1 (Conv2D)           (None, 13, 13, 64)        18432     \n",
            "                                                                 \n",
            " max_pooling2d_1 (MaxPooling  (None, 6, 6, 64)         0         \n",
            " 2D)                                                             \n",
            "                                                                 \n",
            " batch_normalization_1 (Batc  (None, 6, 6, 64)         192       \n",
            " hNormalization)                                                 \n",
            "                                                                 \n",
            " conv2d_2 (Conv2D)           (None, 4, 4, 64)          36864     \n",
            "                                                                 \n",
            " batch_normalization_2 (Batc  (None, 4, 4, 64)         192       \n",
            " hNormalization)                                                 \n",
            "                                                                 \n",
            " flatten (Flatten)           (None, 1024)              0         \n",
            "                                                                 \n",
            " dense (Dense)               (None, 64)                65536     \n",
            "                                                                 \n",
            " batch_normalization_3 (Batc  (None, 64)               192       \n",
            " hNormalization)                                                 \n",
            "                                                                 \n",
            " dense_1 (Dense)             (None, 10)                640       \n",
            "                                                                 \n",
            " batch_normalization_4 (Batc  (None, 10)               30        \n",
            " hNormalization)                                                 \n",
            "                                                                 \n",
            "=================================================================\n",
            "Total params: 123,038\n",
            "Trainable params: 122,570\n",
            "Non-trainable params: 468\n",
            "_________________________________________________________________\n"
          ]
        }
      ]
    },
    {
      "cell_type": "markdown",
      "source": [
        "## 4. Training and evaluation of the normal model\n",
        "\n",
        "To train the same model without binarization and quantization (i.e., using full precision for both weights and activations), we simply need to remove the QuantConv2D and QuantDense layers, replacing them with standard convolutional (Conv2D) and dense (Dense) layers from TensorFlow's Keras API."
      ],
      "metadata": {
        "id": "lrL4fzR1nXfM"
      }
    },
    {
      "cell_type": "code",
      "source": [
        "# Compile the model for normal training\n",
        "model_normal.compile(\n",
        "    optimizer='adam',                       # Adam optimizer\n",
        "    loss=\"sparse_categorical_crossentropy\", # Cross-entropy loss for classification\n",
        "    metrics=[\"accuracy\"]                    # Accuracy as the evaluation metric\n",
        ")\n",
        "\n",
        "# Train the model\n",
        "history_normal = model_normal.fit(\n",
        "    train_images, train_labels,\n",
        "    epochs=30,                        # Number of epochs\n",
        "    batch_size=64,                    # Batch size\n",
        "    validation_data=(test_images, test_labels)  # Use test data for validation\n",
        ")\n",
        "\n",
        "# Evaluate the model on the test dataset\n",
        "test_loss_normal, test_accuracy_normal = model_normal.evaluate(test_images, test_labels)\n",
        "\n",
        "print(f\"Test Accuracy (Normal): {test_accuracy_normal * 100:.2f}%\")\n",
        "print(f\"Test Loss(Normal): {test_loss_normal:.4f}\")"
      ],
      "metadata": {
        "id": "3tns10uNnezJ",
        "colab": {
          "base_uri": "https://localhost:8080/"
        },
        "outputId": "2ad5087f-de84-4203-855e-8bcb0310682f"
      },
      "execution_count": null,
      "outputs": [
        {
          "output_type": "stream",
          "name": "stdout",
          "text": [
            "Epoch 1/30\n",
            "782/782 [==============================] - 95s 118ms/step - loss: 9.4302 - accuracy: 0.1962 - val_loss: 8.0700 - val_accuracy: 0.2231\n",
            "Epoch 2/30\n",
            "782/782 [==============================] - 84s 107ms/step - loss: 6.8828 - accuracy: 0.2643 - val_loss: 7.5897 - val_accuracy: 0.2097\n",
            "Epoch 3/30\n",
            "782/782 [==============================] - 83s 106ms/step - loss: 6.8741 - accuracy: 0.2191 - val_loss: 5.5156 - val_accuracy: 0.2516\n",
            "Epoch 4/30\n",
            "782/782 [==============================] - 83s 107ms/step - loss: 6.5875 - accuracy: 0.1830 - val_loss: 5.8244 - val_accuracy: 0.1796\n",
            "Epoch 5/30\n",
            "782/782 [==============================] - 85s 109ms/step - loss: 5.9125 - accuracy: 0.1781 - val_loss: 5.7213 - val_accuracy: 0.1807\n",
            "Epoch 6/30\n",
            "782/782 [==============================] - 83s 106ms/step - loss: 5.3612 - accuracy: 0.1966 - val_loss: 4.8218 - val_accuracy: 0.2136\n",
            "Epoch 7/30\n",
            "782/782 [==============================] - 83s 106ms/step - loss: 4.9055 - accuracy: 0.1968 - val_loss: 7.7639 - val_accuracy: 0.1306\n",
            "Epoch 8/30\n",
            "782/782 [==============================] - 83s 106ms/step - loss: 4.1016 - accuracy: 0.2137 - val_loss: 3.1395 - val_accuracy: 0.2458\n",
            "Epoch 9/30\n",
            "782/782 [==============================] - 83s 106ms/step - loss: 3.2614 - accuracy: 0.2410 - val_loss: 3.1006 - val_accuracy: 0.2535\n",
            "Epoch 10/30\n",
            "782/782 [==============================] - 90s 115ms/step - loss: 2.6336 - accuracy: 0.2730 - val_loss: 2.2855 - val_accuracy: 0.3056\n",
            "Epoch 11/30\n",
            "782/782 [==============================] - 84s 107ms/step - loss: 2.3881 - accuracy: 0.2969 - val_loss: 2.1786 - val_accuracy: 0.3267\n",
            "Epoch 12/30\n",
            "782/782 [==============================] - 87s 112ms/step - loss: 2.2556 - accuracy: 0.3189 - val_loss: 2.3862 - val_accuracy: 0.3142\n",
            "Epoch 13/30\n",
            "782/782 [==============================] - 83s 107ms/step - loss: 2.3167 - accuracy: 0.2981 - val_loss: 2.6788 - val_accuracy: 0.2496\n",
            "Epoch 14/30\n",
            "782/782 [==============================] - 83s 106ms/step - loss: 2.3922 - accuracy: 0.2766 - val_loss: 2.2185 - val_accuracy: 0.3054\n",
            "Epoch 15/30\n",
            "782/782 [==============================] - 83s 106ms/step - loss: 1.9559 - accuracy: 0.3253 - val_loss: 1.8520 - val_accuracy: 0.3496\n",
            "Epoch 16/30\n",
            "782/782 [==============================] - 84s 107ms/step - loss: 2.0074 - accuracy: 0.3287 - val_loss: 1.9871 - val_accuracy: 0.3015\n",
            "Epoch 17/30\n",
            "782/782 [==============================] - 84s 107ms/step - loss: 2.0460 - accuracy: 0.2993 - val_loss: 1.9605 - val_accuracy: 0.2815\n",
            "Epoch 18/30\n",
            "782/782 [==============================] - 84s 107ms/step - loss: 1.9361 - accuracy: 0.3036 - val_loss: 1.7918 - val_accuracy: 0.3532\n",
            "Epoch 19/30\n",
            "782/782 [==============================] - 85s 109ms/step - loss: 1.7779 - accuracy: 0.3733 - val_loss: 1.7020 - val_accuracy: 0.3863\n",
            "Epoch 20/30\n",
            "782/782 [==============================] - 84s 107ms/step - loss: 1.6982 - accuracy: 0.4103 - val_loss: 1.6674 - val_accuracy: 0.4048\n",
            "Epoch 21/30\n",
            "782/782 [==============================] - 83s 107ms/step - loss: 1.6492 - accuracy: 0.4339 - val_loss: 1.5043 - val_accuracy: 0.4751\n",
            "Epoch 22/30\n",
            "782/782 [==============================] - 83s 106ms/step - loss: 1.8320 - accuracy: 0.3796 - val_loss: 1.6790 - val_accuracy: 0.4078\n",
            "Epoch 23/30\n",
            "782/782 [==============================] - 84s 107ms/step - loss: 1.7000 - accuracy: 0.4099 - val_loss: 1.5719 - val_accuracy: 0.4509\n",
            "Epoch 24/30\n",
            "782/782 [==============================] - 84s 107ms/step - loss: 1.5993 - accuracy: 0.4560 - val_loss: 1.5217 - val_accuracy: 0.4638\n",
            "Epoch 25/30\n",
            "782/782 [==============================] - 83s 107ms/step - loss: 1.8088 - accuracy: 0.3892 - val_loss: 1.9230 - val_accuracy: 0.3339\n",
            "Epoch 26/30\n",
            "782/782 [==============================] - 83s 106ms/step - loss: 1.7990 - accuracy: 0.3845 - val_loss: 1.6653 - val_accuracy: 0.4280\n",
            "Epoch 27/30\n",
            "782/782 [==============================] - 84s 107ms/step - loss: 1.7829 - accuracy: 0.4068 - val_loss: 1.8097 - val_accuracy: 0.3817\n",
            "Epoch 28/30\n",
            "782/782 [==============================] - 84s 108ms/step - loss: 1.8014 - accuracy: 0.4011 - val_loss: 1.7241 - val_accuracy: 0.4182\n",
            "Epoch 29/30\n",
            "782/782 [==============================] - 85s 108ms/step - loss: 1.7140 - accuracy: 0.4314 - val_loss: 1.6214 - val_accuracy: 0.4453\n",
            "Epoch 30/30\n",
            "782/782 [==============================] - 84s 108ms/step - loss: 1.6409 - accuracy: 0.4536 - val_loss: 1.5700 - val_accuracy: 0.4611\n",
            "313/313 [==============================] - 5s 15ms/step - loss: 1.5700 - accuracy: 0.4611\n",
            "Test Accuracy (Normal): 46.11%\n",
            "Test Loss(Normal): 1.5700\n"
          ]
        }
      ]
    },
    {
      "cell_type": "markdown",
      "metadata": {
        "id": "Oewp-wYg31t9"
      },
      "source": [
        "## 5. Creation of a binarized model\n",
        "\n"
      ]
    },
    {
      "cell_type": "code",
      "source": [
        "import larq as lq\n",
        "import tensorflow as tf\n",
        "\n",
        "# Define default quantization options for all layers except the first layer\n",
        "kwargs = dict(\n",
        "    input_quantizer=\"ste_sign\",      # Quantizes activations using Sign-STE (binary quantization to -1 or +1)\n",
        "    kernel_quantizer=\"ste_sign\",     # Quantizes weights to binary values (-1 or +1) with Sign-STE\n",
        "    kernel_constraint=\"weight_clip\"  # Clips weights within a set range (typically -1 to +1) to stabilize training\n",
        ")\n",
        "\n",
        "# Initialize a Sequential model\n",
        "model = tf.keras.models.Sequential()\n",
        "\n",
        "# First layer: Quantized convolutional layer (only quantizing weights, not inputs)\n",
        "model.add(lq.layers.QuantConv2D(\n",
        "    32, (3, 3),                      # 32 filters of size 3x3\n",
        "    kernel_quantizer=\"ste_sign\",     # Quantize weights to -1 or +1\n",
        "    kernel_constraint=\"weight_clip\", # Restrict weights to a range for stability\n",
        "    use_bias=False,                  # Disable bias for simplicity\n",
        "    input_shape=(32, 32, 3)          # Input shape for CIFAR-10 (32x32 RGB images)\n",
        "))\n",
        "model.add(tf.keras.layers.MaxPooling2D((2, 2)))         # Downsample with max pooling\n",
        "model.add(tf.keras.layers.BatchNormalization(scale=False)) # Batch normalization to stabilize activations\n",
        "\n",
        "# Second quantized convolutional layer (quantizes both weights and activations)\n",
        "model.add(lq.layers.QuantConv2D(64, (3, 3), use_bias=False, **kwargs))\n",
        "model.add(tf.keras.layers.MaxPooling2D((2, 2)))         # Downsample again\n",
        "model.add(tf.keras.layers.BatchNormalization(scale=False))\n",
        "\n",
        "# Third quantized convolutional layer (also quantizes both weights and activations)\n",
        "model.add(lq.layers.QuantConv2D(64, (3, 3), use_bias=False, **kwargs))\n",
        "model.add(tf.keras.layers.BatchNormalization(scale=False))\n",
        "model.add(tf.keras.layers.Flatten())                    # Flatten the output for fully connected layers\n",
        "\n",
        "# Quantized dense (fully connected) layer with 64 units\n",
        "model.add(lq.layers.QuantDense(64, use_bias=False, **kwargs))\n",
        "model.add(tf.keras.layers.BatchNormalization(scale=False))\n",
        "\n",
        "# Final quantized dense layer for output (10 classes for CIFAR-10)\n",
        "model.add(lq.layers.QuantDense(10, use_bias=False, **kwargs))\n",
        "model.add(tf.keras.layers.BatchNormalization(scale=False))\n",
        "model.add(tf.keras.layers.Activation(\"softmax\"))        # Softmax activation for classification probabilities\n"
      ],
      "metadata": {
        "id": "_DfUm8dYACH3"
      },
      "execution_count": null,
      "outputs": []
    },
    {
      "cell_type": "code",
      "source": [
        "lq.models.summary(model)"
      ],
      "metadata": {
        "id": "bH9aNaTZAHo_",
        "outputId": "e9ff1ee4-6c23-4d05-b409-a0e854b34af9",
        "colab": {
          "base_uri": "https://localhost:8080/"
        }
      },
      "execution_count": null,
      "outputs": [
        {
          "output_type": "stream",
          "name": "stdout",
          "text": [
            "+sequential_1 stats----------------------------------------------------------------------------------------+\n",
            "| Layer                  Input prec.           Outputs  # 1-bit  # 32-bit  Memory  1-bit MACs  32-bit MACs |\n",
            "|                              (bit)                        x 1       x 1    (kB)                          |\n",
            "+----------------------------------------------------------------------------------------------------------+\n",
            "| quant_conv2d                     -  (-1, 30, 30, 32)      864         0    0.11           0       777600 |\n",
            "| max_pooling2d_2                  -  (-1, 15, 15, 32)        0         0       0           0            0 |\n",
            "| batch_normalization_5            -  (-1, 15, 15, 32)        0        64    0.25           0            0 |\n",
            "| quant_conv2d_1                   1  (-1, 13, 13, 64)    18432         0    2.25     3115008            0 |\n",
            "| max_pooling2d_3                  -    (-1, 6, 6, 64)        0         0       0           0            0 |\n",
            "| batch_normalization_6            -    (-1, 6, 6, 64)        0       128    0.50           0            0 |\n",
            "| quant_conv2d_2                   1    (-1, 4, 4, 64)    36864         0    4.50      589824            0 |\n",
            "| batch_normalization_7            -    (-1, 4, 4, 64)        0       128    0.50           0            0 |\n",
            "| flatten_1                        -        (-1, 1024)        0         0       0           0            0 |\n",
            "| quant_dense                      1          (-1, 64)    65536         0    8.00       65536            0 |\n",
            "| batch_normalization_8            -          (-1, 64)        0       128    0.50           0            0 |\n",
            "| quant_dense_1                    1          (-1, 10)      640         0    0.08         640            0 |\n",
            "| batch_normalization_9            -          (-1, 10)        0        20    0.08           0            0 |\n",
            "| activation                       -          (-1, 10)        0         0       0           ?            ? |\n",
            "+----------------------------------------------------------------------------------------------------------+\n",
            "| Total                                                  122336       468   16.76     3771008       777600 |\n",
            "+----------------------------------------------------------------------------------------------------------+\n",
            "+sequential_1 summary--------------------------+\n",
            "| Total params                      123 k      |\n",
            "| Trainable params                  122 k      |\n",
            "| Non-trainable params              468        |\n",
            "| Model size                        16.76 KiB  |\n",
            "| Model size (8-bit FP weights)     15.39 KiB  |\n",
            "| Float-32 Equivalent               479.70 KiB |\n",
            "| Compression Ratio of Memory       0.03       |\n",
            "| Number of MACs                    4.55 M     |\n",
            "| Ratio of MACs that are binarized  0.8290     |\n",
            "+----------------------------------------------+\n"
          ]
        }
      ]
    },
    {
      "cell_type": "markdown",
      "metadata": {
        "id": "P3odqfHP4M67"
      },
      "source": [
        "## 6. Training and evaluation of the binarized model with QAT\n",
        "\n"
      ]
    },
    {
      "cell_type": "code",
      "execution_count": null,
      "metadata": {
        "id": "MdDzI75PUXrG",
        "outputId": "b437cfd4-3754-4da7-8e96-73a048892bf5",
        "colab": {
          "base_uri": "https://localhost:8080/"
        }
      },
      "outputs": [
        {
          "output_type": "stream",
          "name": "stdout",
          "text": [
            "Epoch 1/30\n",
            "782/782 [==============================] - 93s 117ms/step - loss: 1.7238 - accuracy: 0.3987 - val_loss: 1.5433 - val_accuracy: 0.4706\n",
            "Epoch 2/30\n",
            "782/782 [==============================] - 89s 114ms/step - loss: 1.5033 - accuracy: 0.4972 - val_loss: 1.4586 - val_accuracy: 0.5110\n",
            "Epoch 3/30\n",
            "782/782 [==============================] - 88s 113ms/step - loss: 1.4226 - accuracy: 0.5321 - val_loss: 1.3915 - val_accuracy: 0.5389\n",
            "Epoch 4/30\n",
            "782/782 [==============================] - 89s 114ms/step - loss: 1.3653 - accuracy: 0.5595 - val_loss: 1.3682 - val_accuracy: 0.5522\n",
            "Epoch 5/30\n",
            "782/782 [==============================] - 88s 112ms/step - loss: 1.3286 - accuracy: 0.5748 - val_loss: 1.3423 - val_accuracy: 0.5705\n",
            "Epoch 6/30\n",
            "782/782 [==============================] - 89s 114ms/step - loss: 1.3011 - accuracy: 0.5848 - val_loss: 1.2945 - val_accuracy: 0.5858\n",
            "Epoch 7/30\n",
            "782/782 [==============================] - 89s 114ms/step - loss: 1.2848 - accuracy: 0.5930 - val_loss: 1.2909 - val_accuracy: 0.5892\n",
            "Epoch 8/30\n",
            "782/782 [==============================] - 88s 113ms/step - loss: 1.2656 - accuracy: 0.6028 - val_loss: 1.2801 - val_accuracy: 0.5870\n",
            "Epoch 9/30\n",
            "782/782 [==============================] - 90s 115ms/step - loss: 1.2552 - accuracy: 0.6068 - val_loss: 1.2676 - val_accuracy: 0.5952\n",
            "Epoch 10/30\n",
            "782/782 [==============================] - 89s 114ms/step - loss: 1.2440 - accuracy: 0.6099 - val_loss: 1.2713 - val_accuracy: 0.6047\n",
            "Epoch 11/30\n",
            "782/782 [==============================] - 88s 113ms/step - loss: 1.2325 - accuracy: 0.6156 - val_loss: 1.2768 - val_accuracy: 0.5952\n",
            "Epoch 12/30\n",
            "782/782 [==============================] - 90s 115ms/step - loss: 1.2280 - accuracy: 0.6217 - val_loss: 1.2457 - val_accuracy: 0.6047\n",
            "Epoch 13/30\n",
            "782/782 [==============================] - 88s 113ms/step - loss: 1.2162 - accuracy: 0.6241 - val_loss: 1.1971 - val_accuracy: 0.6243\n",
            "Epoch 14/30\n",
            "782/782 [==============================] - 89s 114ms/step - loss: 1.2153 - accuracy: 0.6232 - val_loss: 1.2965 - val_accuracy: 0.5917\n",
            "Epoch 15/30\n",
            "782/782 [==============================] - 90s 115ms/step - loss: 1.2091 - accuracy: 0.6262 - val_loss: 1.2652 - val_accuracy: 0.6017\n",
            "Epoch 16/30\n",
            "782/782 [==============================] - 88s 113ms/step - loss: 1.2021 - accuracy: 0.6288 - val_loss: 1.2574 - val_accuracy: 0.5993\n",
            "Epoch 17/30\n",
            "782/782 [==============================] - 88s 113ms/step - loss: 1.1962 - accuracy: 0.6309 - val_loss: 1.2946 - val_accuracy: 0.5856\n",
            "Epoch 18/30\n",
            "782/782 [==============================] - 90s 114ms/step - loss: 1.1900 - accuracy: 0.6334 - val_loss: 1.2423 - val_accuracy: 0.6070\n",
            "Epoch 19/30\n",
            "782/782 [==============================] - 88s 113ms/step - loss: 1.1939 - accuracy: 0.6326 - val_loss: 1.2321 - val_accuracy: 0.6088\n",
            "Epoch 20/30\n",
            "782/782 [==============================] - 89s 114ms/step - loss: 1.1831 - accuracy: 0.6393 - val_loss: 1.2574 - val_accuracy: 0.6067\n",
            "Epoch 21/30\n",
            "782/782 [==============================] - 89s 113ms/step - loss: 1.1895 - accuracy: 0.6339 - val_loss: 1.2223 - val_accuracy: 0.6161\n",
            "Epoch 22/30\n",
            "782/782 [==============================] - 88s 113ms/step - loss: 1.1873 - accuracy: 0.6352 - val_loss: 1.2116 - val_accuracy: 0.6242\n",
            "Epoch 23/30\n",
            "782/782 [==============================] - 89s 114ms/step - loss: 1.1769 - accuracy: 0.6393 - val_loss: 1.2202 - val_accuracy: 0.6133\n",
            "Epoch 24/30\n",
            "782/782 [==============================] - 88s 112ms/step - loss: 1.1785 - accuracy: 0.6399 - val_loss: 1.2242 - val_accuracy: 0.6221\n",
            "Epoch 25/30\n",
            "782/782 [==============================] - 88s 113ms/step - loss: 1.1739 - accuracy: 0.6427 - val_loss: 1.2193 - val_accuracy: 0.6211\n",
            "Epoch 26/30\n",
            "782/782 [==============================] - 89s 114ms/step - loss: 1.1744 - accuracy: 0.6399 - val_loss: 1.2222 - val_accuracy: 0.6133\n",
            "Epoch 27/30\n",
            "782/782 [==============================] - 89s 114ms/step - loss: 1.1743 - accuracy: 0.6401 - val_loss: 1.2382 - val_accuracy: 0.6105\n",
            "Epoch 28/30\n",
            "782/782 [==============================] - 88s 113ms/step - loss: 1.1676 - accuracy: 0.6449 - val_loss: 1.2256 - val_accuracy: 0.6200\n",
            "Epoch 29/30\n",
            "782/782 [==============================] - 90s 115ms/step - loss: 1.1651 - accuracy: 0.6450 - val_loss: 1.3266 - val_accuracy: 0.5764\n",
            "Epoch 30/30\n",
            "782/782 [==============================] - 88s 113ms/step - loss: 1.1678 - accuracy: 0.6443 - val_loss: 1.2397 - val_accuracy: 0.6118\n",
            "313/313 [==============================] - 6s 17ms/step - loss: 1.2397 - accuracy: 0.6118\n",
            "Test Accuracy: 61.18%\n",
            "Test Loss: 1.2397\n"
          ]
        }
      ],
      "source": [
        "# Compile the model with an optimizer and loss function\n",
        "model.compile(\n",
        "    optimizer='adam',                      # Adam optimizer is often effective for training binarized networks\n",
        "    loss=\"sparse_categorical_crossentropy\",# Cross-entropy loss for classification\n",
        "    metrics=[\"accuracy\"]                   # Accuracy as the evaluation metric\n",
        ")\n",
        "\n",
        "# Train the model where QAT takes place as the model learns to optimize quantized weights and activations.\n",
        "history = model.fit(\n",
        "    train_images, train_labels,\n",
        "    epochs=50,                           # Number of training epochs\n",
        "    batch_size=64,                      # Batch size for training\n",
        "    validation_data=(test_images, test_labels) # Evaluate on test set after each epoch\n",
        ")\n",
        "\n",
        "# Evaluate the model on the test dataset\n",
        "test_loss, test_accuracy = model.evaluate(test_images, test_labels)\n",
        "\n",
        "print(f\"Test Accuracy: {test_accuracy * 100:.2f}%\")\n",
        "print(f\"Test Loss: {test_loss:.4f}\")"
      ]
    },
    {
      "cell_type": "code",
      "source": [
        "import matplotlib.pyplot as plt\n",
        "\n",
        "# Plot training & validation accuracy values for both models\n",
        "plt.figure(figsize=(12, 5))\n",
        "\n",
        "# Accuracy plot\n",
        "plt.subplot(1, 2, 1)\n",
        "plt.plot(history.history['accuracy'], label='Train Accuracy (Binarized)')\n",
        "plt.plot(history.history['val_accuracy'], label='Validation Accuracy (Binarized)')\n",
        "plt.plot(history_normal.history['accuracy'], label='Train Accuracy (Normal)')\n",
        "plt.plot(history_normal.history['val_accuracy'], label='Validation Accuracy (Normal)')\n",
        "plt.title('Model Accuracy Comparison')\n",
        "plt.xlabel('Epoch')\n",
        "plt.ylabel('Accuracy')\n",
        "plt.legend(loc='lower right')\n",
        "\n",
        "# Loss plot\n",
        "plt.subplot(1, 2, 2)\n",
        "plt.plot(history.history['loss'], label='Train Loss (Binarized)')\n",
        "plt.plot(history.history['val_loss'], label='Validation Loss (Binarized)')\n",
        "plt.plot(history_normal.history['loss'], label='Train Loss (Normal)')\n",
        "plt.plot(history_normal.history['val_loss'], label='Validation Loss (Normal)')\n",
        "plt.title('Model Loss Comparison')\n",
        "plt.xlabel('Epoch')\n",
        "plt.ylabel('Loss')\n",
        "plt.legend(loc='upper right')\n",
        "\n",
        "plt.tight_layout()\n",
        "plt.show()\n"
      ],
      "metadata": {
        "id": "cXdkJ5d2oCp1",
        "outputId": "96809b32-0abb-4371-b5d0-3ec65b7a0e03",
        "colab": {
          "base_uri": "https://localhost:8080/",
          "height": 491
        }
      },
      "execution_count": null,
      "outputs": [
        {
          "output_type": "display_data",
          "data": {
            "text/plain": [
              "<Figure size 1200x500 with 2 Axes>"
            ],
            "image/png": "[encoded data removed]"
          },
          "metadata": {}
        }
      ]
    },
    {
      "cell_type": "markdown",
      "source": [
        "## 7. Compare models\n",
        "\n",
        "###**A. SIZE**\n",
        "\n",
        "We can evaluate how much memory each model takes up, specifically looking at the number of parameters (weights) in each model. The size of the model can be directly related to the total number of parameters, since each parameter is a floating-point value and requires memory for storage."
      ],
      "metadata": {
        "id": "7jE4e_Xhyv5k"
      }
    },
    {
      "cell_type": "code",
      "source": [
        "# Print summary of both models to compare parameters\n",
        "print(\"\\nBinarized Model Summary:\")\n",
        "model.summary()\n",
        "\n",
        "print(\"Normal Model Summary:\")\n",
        "model_normal.summary()"
      ],
      "metadata": {
        "id": "rF4SPUc8zOi-",
        "outputId": "c6f4ba48-7e51-4262-aba9-04060017b7f7",
        "colab": {
          "base_uri": "https://localhost:8080/"
        }
      },
      "execution_count": null,
      "outputs": [
        {
          "output_type": "stream",
          "name": "stdout",
          "text": [
            "\n",
            "Binarized Model Summary:\n",
            "Model: \"sequential_1\"\n",
            "_________________________________________________________________\n",
            " Layer (type)                Output Shape              Param #   \n",
            "=================================================================\n",
            " quant_conv2d (QuantConv2D)  (None, 30, 30, 32)        864       \n",
            "                                                                 \n",
            " max_pooling2d_2 (MaxPooling  (None, 15, 15, 32)       0         \n",
            " 2D)                                                             \n",
            "                                                                 \n",
            " batch_normalization_5 (Batc  (None, 15, 15, 32)       96        \n",
            " hNormalization)                                                 \n",
            "                                                                 \n",
            " quant_conv2d_1 (QuantConv2D  (None, 13, 13, 64)       18432     \n",
            " )                                                               \n",
            "                                                                 \n",
            " max_pooling2d_3 (MaxPooling  (None, 6, 6, 64)         0         \n",
            " 2D)                                                             \n",
            "                                                                 \n",
            " batch_normalization_6 (Batc  (None, 6, 6, 64)         192       \n",
            " hNormalization)                                                 \n",
            "                                                                 \n",
            " quant_conv2d_2 (QuantConv2D  (None, 4, 4, 64)         36864     \n",
            " )                                                               \n",
            "                                                                 \n",
            " batch_normalization_7 (Batc  (None, 4, 4, 64)         192       \n",
            " hNormalization)                                                 \n",
            "                                                                 \n",
            " flatten_1 (Flatten)         (None, 1024)              0         \n",
            "                                                                 \n",
            " quant_dense (QuantDense)    (None, 64)                65536     \n",
            "                                                                 \n",
            " batch_normalization_8 (Batc  (None, 64)               192       \n",
            " hNormalization)                                                 \n",
            "                                                                 \n",
            " quant_dense_1 (QuantDense)  (None, 10)                640       \n",
            "                                                                 \n",
            " batch_normalization_9 (Batc  (None, 10)               30        \n",
            " hNormalization)                                                 \n",
            "                                                                 \n",
            " activation (Activation)     (None, 10)                0         \n",
            "                                                                 \n",
            "=================================================================\n",
            "Total params: 123,038\n",
            "Trainable params: 122,570\n",
            "Non-trainable params: 468\n",
            "_________________________________________________________________\n",
            "Normal Model Summary:\n",
            "Model: \"sequential\"\n",
            "_________________________________________________________________\n",
            " Layer (type)                Output Shape              Param #   \n",
            "=================================================================\n",
            " conv2d (Conv2D)             (None, 30, 30, 32)        864       \n",
            "                                                                 \n",
            " max_pooling2d (MaxPooling2D  (None, 15, 15, 32)       0         \n",
            " )                                                               \n",
            "                                                                 \n",
            " batch_normalization (BatchN  (None, 15, 15, 32)       96        \n",
            " ormalization)                                                   \n",
            "                                                                 \n",
            " conv2d_1 (Conv2D)           (None, 13, 13, 64)        18432     \n",
            "                                                                 \n",
            " max_pooling2d_1 (MaxPooling  (None, 6, 6, 64)         0         \n",
            " 2D)                                                             \n",
            "                                                                 \n",
            " batch_normalization_1 (Batc  (None, 6, 6, 64)         192       \n",
            " hNormalization)                                                 \n",
            "                                                                 \n",
            " conv2d_2 (Conv2D)           (None, 4, 4, 64)          36864     \n",
            "                                                                 \n",
            " batch_normalization_2 (Batc  (None, 4, 4, 64)         192       \n",
            " hNormalization)                                                 \n",
            "                                                                 \n",
            " flatten (Flatten)           (None, 1024)              0         \n",
            "                                                                 \n",
            " dense (Dense)               (None, 64)                65536     \n",
            "                                                                 \n",
            " batch_normalization_3 (Batc  (None, 64)               192       \n",
            " hNormalization)                                                 \n",
            "                                                                 \n",
            " dense_1 (Dense)             (None, 10)                640       \n",
            "                                                                 \n",
            " batch_normalization_4 (Batc  (None, 10)               30        \n",
            " hNormalization)                                                 \n",
            "                                                                 \n",
            "=================================================================\n",
            "Total params: 123,038\n",
            "Trainable params: 122,570\n",
            "Non-trainable params: 468\n",
            "_________________________________________________________________\n"
          ]
        }
      ]
    },
    {
      "cell_type": "code",
      "source": [
        "\n",
        "# Calculate the model size in bytes\n",
        "def calculate_model_size(model, is_binarized=False):\n",
        "    total_params = model.count_params()\n",
        "\n",
        "    if is_binarized:\n",
        "        # Binarized model parameters are stored in 1 byte per parameter\n",
        "        return total_params  # 1 byte per parameter for binarized model\n",
        "    else:\n",
        "        # Normal model parameters are stored in 4 bytes per parameter (32-bit floating point)\n",
        "        return total_params * 4  # 4 bytes per parameter for normal model\n",
        "\n",
        "# Get the sizes of both models\n",
        "normal_model_size = calculate_model_size(model_normal, is_binarized=False)\n",
        "binarized_model_size = calculate_model_size(model, is_binarized=True)\n",
        "\n",
        "# Print the model sizes in MB\n",
        "print(f\"Normal Model Size: {normal_model_size / (1024**2):.2f} MB\")\n",
        "print(f\"Binarized Model Size: {binarized_model_size / (1024**2):.2f} MB\")\n"
      ],
      "metadata": {
        "id": "uJMrez8fz-3Q",
        "outputId": "53a69db6-2fb4-407a-814d-d700d5b81e56",
        "colab": {
          "base_uri": "https://localhost:8080/"
        }
      },
      "execution_count": null,
      "outputs": [
        {
          "output_type": "stream",
          "name": "stdout",
          "text": [
            "Normal Model Size: 0.47 MB\n",
            "Binarized Model Size: 0.12 MB\n"
          ]
        }
      ]
    },
    {
      "cell_type": "code",
      "source": [
        "# Save both models to disk\n",
        "model.save(\"binarized_model.h5\")\n",
        "model_normal.save(\"normal_model.h5\")\n",
        "\n",
        "# Compare file sizes\n",
        "import os\n",
        "\n",
        "binarized_model_size = os.path.getsize(\"binarized_model.h5\") / (1024**2)\n",
        "normal_model_size = os.path.getsize(\"normal_model.h5\") / (1024**2)  # Size in MB\n",
        "\n",
        "\n",
        "print(f\"Normal Model File Size: {normal_model_size:.2f} MB\")\n",
        "print(f\"Binarized Model File Size: {binarized_model_size:.2f} MB\")"
      ],
      "metadata": {
        "id": "ZcMz7qzZ0TuH",
        "outputId": "0b3dd5d9-03d7-42c7-af5d-b63d7380137e",
        "colab": {
          "base_uri": "https://localhost:8080/"
        }
      },
      "execution_count": null,
      "outputs": [
        {
          "output_type": "stream",
          "name": "stdout",
          "text": [
            "Normal Model File Size: 1.48 MB\n",
            "Binarized Model File Size: 1.48 MB\n"
          ]
        }
      ]
    },
    {
      "cell_type": "code",
      "source": [
        "import time\n",
        "\n",
        "# Function to measure inference time\n",
        "def measure_inference_time(model, test_images):\n",
        "    start_time = time.time()\n",
        "    predictions = model.predict(test_images)\n",
        "    end_time = time.time()\n",
        "\n",
        "    inference_time = end_time - start_time  # Time taken in seconds\n",
        "    return inference_time\n",
        "\n",
        "# Choose a batch of 100 test samples for inference time\n",
        "batch_size = 100\n",
        "test_batch = test_images[:batch_size]\n",
        "\n",
        "# Measure inference time for both models\n",
        "inference_time_normal = measure_inference_time(model_normal, test_batch)\n",
        "inference_time_binarized = measure_inference_time(model, test_batch)\n",
        "\n",
        "print(f\"Inference Time (Normal Model): {inference_time_normal:.4f} seconds\")\n",
        "print(f\"Inference Time (Binarized Model): {inference_time_binarized:.4f} seconds\")"
      ],
      "metadata": {
        "id": "al5-N2Nk2BuL",
        "outputId": "f258ea60-9799-4519-e885-900d40bce93b",
        "colab": {
          "base_uri": "https://localhost:8080/"
        }
      },
      "execution_count": null,
      "outputs": [
        {
          "output_type": "stream",
          "name": "stdout",
          "text": [
            "4/4 [==============================] - 0s 21ms/step\n",
            "4/4 [==============================] - 1s 24ms/step\n",
            "Inference Time (Normal Model): 0.6488 seconds\n",
            "Inference Time (Binarized Model): 0.7155 seconds\n"
          ]
        }
      ]
    },
    {
      "cell_type": "code",
      "source": [
        "# Function to measure throughput (images per second)\n",
        "def measure_throughput(model, test_images, batch_size=10000):\n",
        "    start_time = time.time()\n",
        "    model.predict(test_images[:batch_size])  # Make prediction on a batch\n",
        "    end_time = time.time()\n",
        "\n",
        "    time_taken = end_time - start_time\n",
        "    throughput = batch_size / time_taken  # Images per second\n",
        "    return throughput\n",
        "\n",
        "# Measure throughput for both models\n",
        "throughput_normal = measure_throughput(model_normal, test_images, batch_size)\n",
        "throughput_binarized = measure_throughput(model, test_images, batch_size)\n",
        "\n",
        "print(f\"Throughput (Normal Model): {throughput_normal:.2f} images per second\")\n",
        "print(f\"Throughput (Binarized Model): {throughput_binarized:.2f} images per second\")"
      ],
      "metadata": {
        "id": "H6C4dWCF24bw",
        "outputId": "03b5ddd5-e63f-43b0-e6f8-abbedca2968e",
        "colab": {
          "base_uri": "https://localhost:8080/"
        }
      },
      "execution_count": null,
      "outputs": [
        {
          "output_type": "stream",
          "name": "stdout",
          "text": [
            "4/4 [==============================] - 0s 17ms/step\n",
            "4/4 [==============================] - 0s 14ms/step\n",
            "Throughput (Normal Model): 410.60 images per second\n",
            "Throughput (Binarized Model): 709.13 images per second\n"
          ]
        }
      ]
    },
    {
      "cell_type": "code",
      "source": [
        "# Evaluate the accuracy of both models\n",
        "test_loss_normal, test_accuracy_normal = model_normal.evaluate(test_images, test_labels)\n",
        "test_loss_binarized, test_accuracy_binarized = model.evaluate(test_images, test_labels)\n",
        "\n",
        "print(f\"Test Accuracy (Normal Model): {test_accuracy_normal * 100:.2f}%\")\n",
        "print(f\"Test Accuracy (Binarized Model): {test_accuracy_binarized * 100:.2f}%\")"
      ],
      "metadata": {
        "id": "lpH4IX403e0v",
        "outputId": "fb542de1-5892-4a90-9563-83f0df6f568e",
        "colab": {
          "base_uri": "https://localhost:8080/"
        }
      },
      "execution_count": null,
      "outputs": [
        {
          "output_type": "stream",
          "name": "stdout",
          "text": [
            "313/313 [==============================] - 5s 15ms/step - loss: 1.5700 - accuracy: 0.4611\n",
            "313/313 [==============================] - 6s 20ms/step - loss: 1.2397 - accuracy: 0.6118\n",
            "Test Accuracy (Normal Model): 46.11%\n",
            "Test Accuracy (Binarized Model): 61.18%\n"
          ]
        }
      ]
    },
    {
      "cell_type": "code",
      "source": [
        "import psutil\n",
        "import os\n",
        "\n",
        "# Function to get current memory usage\n",
        "def get_memory_usage():\n",
        "    process = psutil.Process(os.getpid())\n",
        "    return process.memory_info().rss / (1024 ** 2)  # Memory in MB\n",
        "\n",
        "# Measure memory usage during inference for both models\n",
        "memory_usage_normal_start = get_memory_usage()\n",
        "model_normal.predict(test_batch)  # Inference on the normal model\n",
        "memory_usage_normal_end = get_memory_usage()\n",
        "\n",
        "memory_usage_binarized_start = get_memory_usage()\n",
        "model.predict(test_batch)  # Inference on the binarized model\n",
        "memory_usage_binarized_end = get_memory_usage()\n",
        "\n",
        "print(f\"Memory Usage (Normal Model): {memory_usage_normal_end - memory_usage_normal_start:.2f} MB\")\n",
        "print(f\"Memory Usage (Binarized Model): {memory_usage_binarized_end - memory_usage_binarized_start:.2f} MB\")"
      ],
      "metadata": {
        "id": "MomWvnsv30g8",
        "outputId": "4b8dbff6-8d5f-4b3e-8c73-d3cbc81b87b8",
        "colab": {
          "base_uri": "https://localhost:8080/"
        }
      },
      "execution_count": null,
      "outputs": [
        {
          "output_type": "stream",
          "name": "stdout",
          "text": [
            "4/4 [==============================] - 0s 19ms/step\n",
            "4/4 [==============================] - 0s 24ms/step\n",
            "Memory Usage (Normal Model): 0.00 MB\n",
            "Memory Usage (Binarized Model): 1.42 MB\n"
          ]
        }
      ]
    },
    {
      "cell_type": "code",
      "source": [
        "import psutil\n",
        "import os\n",
        "\n",
        "# Function to get current memory usage\n",
        "def get_memory_usage():\n",
        "    process = psutil.Process(os.getpid())\n",
        "    return process.memory_info().rss / (1024 ** 2)  # Memory in MB\n",
        "\n",
        "# Measure memory usage during inference for both models\n",
        "memory_usage_normal_start = get_memory_usage()\n",
        "model_normal.predict(test_batch)  # Inference on the normal model\n",
        "memory_usage_normal_end = get_memory_usage()\n",
        "\n",
        "memory_usage_binarized_start = get_memory_usage()\n",
        "model.predict(test_batch)  # Inference on the binarized model\n",
        "memory_usage_binarized_end = get_memory_usage()\n",
        "\n",
        "print(f\"Memory Usage (Normal Model): {memory_usage_normal_end - memory_usage_normal_start:.2f} MB\")\n",
        "print(f\"Memory Usage (Binarized Model): {memory_usage_binarized_end - memory_usage_binarized_start:.2f} MB\")"
      ],
      "metadata": {
        "id": "oJddE8osFnOh",
        "outputId": "3c53e384-a767-4f66-a0c1-8f3d4583aed3",
        "colab": {
          "base_uri": "https://localhost:8080/"
        }
      },
      "execution_count": null,
      "outputs": [
        {
          "output_type": "stream",
          "name": "stdout",
          "text": [
            "4/4 [==============================] - 0s 21ms/step\n",
            "4/4 [==============================] - 0s 24ms/step\n",
            "Memory Usage (Normal Model): 1.18 MB\n",
            "Memory Usage (Binarized Model): 2.37 MB\n"
          ]
        }
      ]
    }
  ]
}